{
 "cells": [
  {
   "cell_type": "markdown",
   "id": "abc76984",
   "metadata": {},
   "source": [
    "# Sesión 2. Ejercicios. "
   ]
  },
  {
   "cell_type": "markdown",
   "id": "55e19580",
   "metadata": {},
   "source": [
    "## Lectura y escritura de archivos\n",
    "\n",
    "Carga el archivo JSON de nombre <code>feminicidios_municipales_2021.json</code> el cual se encuentra en la carpeta <code>datos</code>. Dicho archivo contiene la tasa de feminicidios presentada en 2021 por municipio de los datos de  *Incidencia delictiva del fuero común 2015-2022*:\n",
    "* https://www.gob.mx/sesnsp/acciones-y-programas/incidencia-delictiva-del-fuero-comun-nueva-metodologia"
   ]
  },
  {
   "cell_type": "markdown",
   "id": "f1654d8c",
   "metadata": {},
   "source": [
    "## Compresión de listas y diccionarios\n",
    "\n",
    "Con el JSON de <code>feminicidios_municipales_2021.json</code> cargado, extraiga una lista de estados para los cuales al menos uno de sus municipios tuvo una tasa de feminicidios mayor a la tasa nacional la cual fue de 1.1 víctimas por cada 100 mil mujeres."
   ]
  },
  {
   "cell_type": "markdown",
   "id": "13409c89",
   "metadata": {},
   "source": [
    "## Clases y programación orientada a objetos\n",
    "\n",
    "\n",
    "Implementa la clase <code>Micro</code> que herede de la clase <code>Vehiculo</code>, además:\n",
    "\n",
    "* Implemementa el método <code>desacelerar(cantidad)</code> sin permitir que la rapidez sea menor a 0 km/h.\n",
    "* Reimplementa el inicilizador <code>\\_\\_init\\_\\_</code> para que reciba como argumento la ruta del </code>Micro</code> (por ejemplo, Zapata-Mixcoac).\n",
    "* Reimplementa el el método <code>info</code> para que el mensaje sea 'El Micro X con dirección D va a N km/h!', donde X es el nombre del Micro, D la ruta y N la velocidad."
   ]
  }
 ],
 "metadata": {
  "kernelspec": {
   "display_name": "Python 3 (ipykernel)",
   "language": "python",
   "name": "python3"
  },
  "language_info": {
   "codemirror_mode": {
    "name": "ipython",
    "version": 3
   },
   "file_extension": ".py",
   "mimetype": "text/x-python",
   "name": "python",
   "nbconvert_exporter": "python",
   "pygments_lexer": "ipython3",
   "version": "3.7.11"
  }
 },
 "nbformat": 4,
 "nbformat_minor": 5
}
