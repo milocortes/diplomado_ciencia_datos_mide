{
 "cells": [
  {
   "cell_type": "markdown",
   "id": "c2dd65b1",
   "metadata": {
    "slideshow": {
     "slide_type": "slide"
    }
   },
   "source": [
    "# Métodos del objeto <code>Series</code>"
   ]
  },
  {
   "cell_type": "code",
   "execution_count": 2,
   "id": "cabf15d6",
   "metadata": {
    "slideshow": {
     "slide_type": "slide"
    }
   },
   "outputs": [],
   "source": [
    "import pandas as pd\n",
    "\n",
    "# El parámetro <code>squeeze</code> convierte un <code>DataFrame</code>de una columna en una serie\n",
    "pokemon = pd.read_csv(\"../datos/pokemon.csv\", index_col = \"Pokemon\", squeeze = True)\n",
    "google = pd.read_csv(\"../datos/google_stocks.csv\",parse_dates = [\"Date\"],index_col = \"Date\",squeeze = True)"
   ]
  },
  {
   "cell_type": "code",
   "execution_count": 3,
   "id": "471037b4",
   "metadata": {},
   "outputs": [
    {
     "data": {
      "text/plain": [
       "Pokemon\n",
       "Bulbasaur      Grass / Poison\n",
       "Ivysaur        Grass / Poison\n",
       "Venusaur       Grass / Poison\n",
       "Charmander               Fire\n",
       "Charmeleon               Fire\n",
       "                    ...      \n",
       "Stakataka        Rock / Steel\n",
       "Blacephalon      Fire / Ghost\n",
       "Zeraora              Electric\n",
       "Meltan                  Steel\n",
       "Melmetal                Steel\n",
       "Name: Type, Length: 809, dtype: object"
      ]
     },
     "execution_count": 3,
     "metadata": {},
     "output_type": "execute_result"
    }
   ],
   "source": [
    "pokemon"
   ]
  },
  {
   "cell_type": "code",
   "execution_count": 8,
   "id": "0106adb2",
   "metadata": {},
   "outputs": [
    {
     "data": {
      "text/plain": [
       "Date\n",
       "2004-09-03      49.82\n",
       "2004-09-01      49.94\n",
       "2004-08-19      49.98\n",
       "2004-09-02      50.57\n",
       "2004-09-07      50.60\n",
       "               ...   \n",
       "2019-04-23    1264.55\n",
       "2019-10-25    1265.13\n",
       "2018-07-26    1268.33\n",
       "2019-04-26    1272.18\n",
       "2019-04-29    1287.58\n",
       "Name: Close, Length: 3824, dtype: float64"
      ]
     },
     "execution_count": 8,
     "metadata": {},
     "output_type": "execute_result"
    }
   ],
   "source": [
    "google.sort_values()"
   ]
  },
  {
   "cell_type": "markdown",
   "id": "b37d94bf",
   "metadata": {
    "slideshow": {
     "slide_type": "slide"
    }
   },
   "source": [
    "## Sobrescribir una <code>Series</code> con el parámetro <code>inplace</code>"
   ]
  },
  {
   "cell_type": "code",
   "execution_count": 9,
   "id": "b4cd5421",
   "metadata": {},
   "outputs": [
    {
     "data": {
      "text/plain": [
       "Pokemon\n",
       "Abomasnow        Grass / Ice\n",
       "Abra                 Psychic\n",
       "Absol                   Dark\n",
       "Accelgor                 Bug\n",
       "Aegislash      Steel / Ghost\n",
       "                  ...       \n",
       "Zoroark                 Dark\n",
       "Zorua                   Dark\n",
       "Zubat        Poison / Flying\n",
       "Zweilous       Dark / Dragon\n",
       "Zygarde      Dragon / Ground\n",
       "Name: Type, Length: 809, dtype: object"
      ]
     },
     "execution_count": 9,
     "metadata": {},
     "output_type": "execute_result"
    }
   ],
   "source": [
    "pokemon.sort_index(ascending = True)"
   ]
  },
  {
   "cell_type": "code",
   "execution_count": 10,
   "id": "bba31864",
   "metadata": {},
   "outputs": [
    {
     "data": {
      "text/plain": [
       "Pokemon\n",
       "Bulbasaur      Grass / Poison\n",
       "Ivysaur        Grass / Poison\n",
       "Venusaur       Grass / Poison\n",
       "Charmander               Fire\n",
       "Charmeleon               Fire\n",
       "                    ...      \n",
       "Stakataka        Rock / Steel\n",
       "Blacephalon      Fire / Ghost\n",
       "Zeraora              Electric\n",
       "Meltan                  Steel\n",
       "Melmetal                Steel\n",
       "Name: Type, Length: 809, dtype: object"
      ]
     },
     "execution_count": 10,
     "metadata": {},
     "output_type": "execute_result"
    }
   ],
   "source": [
    "pokemon"
   ]
  },
  {
   "cell_type": "markdown",
   "id": "6de9fd37",
   "metadata": {},
   "source": [
    "¿Y si quisiéramos modificar la <code>Series</code>? Muchos métodos en pandas incluyen un parámetro <code>inplace</code> que, cuando se pasa <code>True</code> como argumento, modifica el objeto en el que se invoca el método."
   ]
  },
  {
   "cell_type": "code",
   "execution_count": 11,
   "id": "8b449a71",
   "metadata": {},
   "outputs": [],
   "source": [
    "pokemon.sort_index(ascending = True, inplace = True)"
   ]
  },
  {
   "cell_type": "code",
   "execution_count": 12,
   "id": "ccf60915",
   "metadata": {},
   "outputs": [
    {
     "data": {
      "text/plain": [
       "Pokemon\n",
       "Abomasnow        Grass / Ice\n",
       "Abra                 Psychic\n",
       "Absol                   Dark\n",
       "Accelgor                 Bug\n",
       "Aegislash      Steel / Ghost\n",
       "                  ...       \n",
       "Zoroark                 Dark\n",
       "Zorua                   Dark\n",
       "Zubat        Poison / Flying\n",
       "Zweilous       Dark / Dragon\n",
       "Zygarde      Dragon / Ground\n",
       "Name: Type, Length: 809, dtype: object"
      ]
     },
     "execution_count": 12,
     "metadata": {},
     "output_type": "execute_result"
    }
   ],
   "source": [
    "pokemon"
   ]
  },
  {
   "cell_type": "markdown",
   "id": "9077bdf1",
   "metadata": {},
   "source": [
    "## Contar valores con el método <code>value_counts</code>"
   ]
  },
  {
   "cell_type": "code",
   "execution_count": 13,
   "id": "bf74647f",
   "metadata": {},
   "outputs": [
    {
     "data": {
      "text/plain": [
       "Normal                65\n",
       "Water                 61\n",
       "Grass                 38\n",
       "Psychic               35\n",
       "Fire                  30\n",
       "                      ..\n",
       "Psychic / Grass        1\n",
       "Psychic / Fighting     1\n",
       "Rock / Poison          1\n",
       "Bug / Ground           1\n",
       "Dragon / Electric      1\n",
       "Name: Type, Length: 159, dtype: int64"
      ]
     },
     "execution_count": 13,
     "metadata": {},
     "output_type": "execute_result"
    }
   ],
   "source": [
    "pokemon.value_counts()"
   ]
  },
  {
   "cell_type": "markdown",
   "id": "424848ec",
   "metadata": {},
   "source": [
    "Puede que nos interese más la proporción de un tipo de Pokémon en relación con todos los tipos.\n",
    "\n",
    "Al establecer el parámetro <code>normalize</code> del método <code>value_counts</code> en <code>True</code> podemos devolver las frecuencias de cada valor único:"
   ]
  },
  {
   "cell_type": "code",
   "execution_count": 4,
   "id": "ec2950e6",
   "metadata": {},
   "outputs": [
    {
     "data": {
      "text/plain": [
       "Normal     0.080346\n",
       "Water      0.075402\n",
       "Grass      0.046972\n",
       "Psychic    0.043263\n",
       "Fire       0.037083\n",
       "Name: Type, dtype: float64"
      ]
     },
     "execution_count": 4,
     "metadata": {},
     "output_type": "execute_result"
    }
   ],
   "source": [
    "pokemon.value_counts(normalize = True).head()"
   ]
  },
  {
   "cell_type": "markdown",
   "id": "964bd39d",
   "metadata": {},
   "source": [
    "\n",
    "Podemos multiplicar los valores de la frecuencia <code>Series</code> por 100 para obtener el porcentaje que cada tipo de Pokémon contribuye al total"
   ]
  },
  {
   "cell_type": "code",
   "execution_count": 5,
   "id": "dfae1c1d",
   "metadata": {},
   "outputs": [
    {
     "data": {
      "text/plain": [
       "Normal     8.034611\n",
       "Water      7.540173\n",
       "Grass      4.697157\n",
       "Psychic    4.326329\n",
       "Fire       3.708282\n",
       "Name: Type, dtype: float64"
      ]
     },
     "execution_count": 5,
     "metadata": {},
     "output_type": "execute_result"
    }
   ],
   "source": [
    "pokemon.value_counts(normalize = True).head() * 100"
   ]
  },
  {
   "cell_type": "markdown",
   "id": "fd80c50a",
   "metadata": {},
   "source": [
    "Podemos definir intervalos como valores en una lista y pasar la lista al parámetro <code>bins</code> del método <code>value_counts</code>. \n",
    "\n",
    "Pandas usará cada dos valores de lista subsiguientes como los extremos inferior y superior de un intervalo:"
   ]
  },
  {
   "cell_type": "code",
   "execution_count": 16,
   "id": "8829de09",
   "metadata": {},
   "outputs": [
    {
     "data": {
      "text/plain": [
       "count    3824.000000\n",
       "mean      479.945860\n",
       "std       328.528592\n",
       "min        49.820000\n",
       "25%       235.860000\n",
       "50%       314.680000\n",
       "75%       708.205000\n",
       "max      1287.580000\n",
       "Name: Close, dtype: float64"
      ]
     },
     "execution_count": 16,
     "metadata": {},
     "output_type": "execute_result"
    }
   ],
   "source": [
    "google.describe()"
   ]
  },
  {
   "cell_type": "code",
   "execution_count": 20,
   "id": "75fb9df9",
   "metadata": {},
   "outputs": [
    {
     "data": {
      "text/plain": [
       "(-0.001, 200.0]      595\n",
       "(200.0, 400.0]      1568\n",
       "(400.0, 600.0]       575\n",
       "(600.0, 800.0]       380\n",
       "(800.0, 1000.0]      207\n",
       "(1000.0, 1200.0]     406\n",
       "(1200.0, 1400.0]      93\n",
       "Name: Close, dtype: int64"
      ]
     },
     "execution_count": 20,
     "metadata": {},
     "output_type": "execute_result"
    }
   ],
   "source": [
    "buckets = [0, 200, 400, 600, 800, 1000, 1200, 1400]\n",
    "google.value_counts(bins = buckets, sort = False)"
   ]
  },
  {
   "cell_type": "markdown",
   "id": "70055258",
   "metadata": {},
   "source": [
    "Tenga en cuenta que el primer intervalo incluye el valor -0.001 en lugar de 0. \n",
    "\n",
    "Cuando pandas organiza los valores de <code>Series</code> en rangos, puede extender el rango hasta en 0.1% en cualquier dirección. Los símbolos alrededor de los intervalos tienen significado:\n",
    "\n",
    "* Un paréntesis marca un valor como *excluido* del intervalo.\n",
    "* Un corchete marca un valor como *incluido* en el intervalo."
   ]
  },
  {
   "cell_type": "markdown",
   "id": "16faaee5",
   "metadata": {},
   "source": [
    "El parámetro bins del método <code>value_counts</code> también acepta como argumento un número entero.\n",
    "\n",
    "Pandas calculará automáticamente la diferencia entre los valores máximo y mínimo en la <code>Serie</code> y dividirá el rango en el número especificado de bins.\n",
    "\n",
    "\n",
    "El siguiente ejemplo divide los precios de las acciones en Google en seis bins."
   ]
  },
  {
   "cell_type": "code",
   "execution_count": 21,
   "id": "2f3407af",
   "metadata": {},
   "outputs": [
    {
     "data": {
      "text/plain": [
       "(48.581, 256.113]      1204\n",
       "(256.113, 462.407]     1104\n",
       "(462.407, 668.7]        507\n",
       "(668.7, 874.993]        380\n",
       "(874.993, 1081.287]     292\n",
       "(1081.287, 1287.58]     337\n",
       "Name: Close, dtype: int64"
      ]
     },
     "execution_count": 21,
     "metadata": {},
     "output_type": "execute_result"
    }
   ],
   "source": [
    "google.value_counts(bins = 6, sort = False)"
   ]
  },
  {
   "cell_type": "markdown",
   "id": "4981f780",
   "metadata": {},
   "source": [
    "## Invocar una función en cada valor de <code>Series</code> con el método <code>apply</code>\n",
    "\n",
    "En Python una función es un *objeto de primera clase* lo que significa que el lenguaje la trata como cualquier otro tipo de datos.\n",
    "\n",
    "¿Esto qué significa? Qué cualquier cosa que puedas hacer con un número, puedes hacerlo con una función. Puede hacer todas las cosas siguientes, por ejemplo:\n",
    "\n",
    "* Almacenar una función en una lista.\n",
    "* Asignar una función como valor para una llave de un diccionario.\n",
    "* Pasar una función como argumento de una función.\n",
    "\n",
    "Es importante distinguir entre una función y una invocación de función.\n",
    "\n",
    "Una *función* es una secuencia de instrucciones que produce una salida; es una “receta” que aún no ha sido cocinada. \n",
    "\n",
    "Por su parte, la invocación de una función es la ejecución real de las instrucciones; es la cocción de la receta."
   ]
  },
  {
   "cell_type": "markdown",
   "id": "0ad62bbc",
   "metadata": {},
   "source": [
    "El siguiente ejemplo declara una lista <code>funcs</code> que almacena tres funciones integradas de Python.\n",
    "\n",
    "Las funciones <code>len</code> , <code>max</code> y <code>min</code> no se invocan dentro de la lista. \n",
    "\n",
    "La lista almacena referencias a esas funciones:\n"
   ]
  },
  {
   "cell_type": "code",
   "execution_count": 26,
   "id": "b3f497f8",
   "metadata": {},
   "outputs": [],
   "source": [
    "funcs = [len,max,min]"
   ]
  },
  {
   "cell_type": "markdown",
   "id": "760ef5fb",
   "metadata": {},
   "source": [
    "El siguiente ejemplo itera sobre la lista <code>funcs</code> con un <code>for</code> loop. En tres iteraciones, la variable de iterador <code>current_func</code> representa las funciones <code>len</code> , <code>max</code> y <code>min</code> no invocadas.\n",
    "\n",
    "\n",
    "Durante cada iteración, el <code>loop</code> invoca la función  <code>current_func</code>, le pasa  <code>google Series</code> e imprime el valor de retorno:"
   ]
  },
  {
   "cell_type": "code",
   "execution_count": 27,
   "id": "c4212c45",
   "metadata": {},
   "outputs": [
    {
     "name": "stdout",
     "output_type": "stream",
     "text": [
      "len--->3824\n",
      "max--->1287.58\n",
      "min--->49.82\n"
     ]
    }
   ],
   "source": [
    "func_names = [\"len\",\"max\",\"min\"]\n",
    "\n",
    "for name_func,current_func in zip(func_names,funcs):\n",
    "    print(\"{}--->{}\".format(name_func,current_func(google)))"
   ]
  },
  {
   "cell_type": "markdown",
   "id": "fe6e1c43",
   "metadata": {
    "slideshow": {
     "slide_type": "slide"
    }
   },
   "source": [
    "**Conclusión : podemos tratar una función como cualquier otro objeto en Python**.\n",
    "\n",
    "Entonces, ¿cómo se aplica este hecho a Pandas?\n",
    "\n",
    "El objeto <code>Series</code> tiene un método llamado <code>apply</code> que invoca una función una vez para cada valor de <code>Series</code> y devuelve una nueva <code>Series</code> que consiste de los valores de retorno de las invocaciones de esa función.\n"
   ]
  },
  {
   "cell_type": "code",
   "execution_count": 28,
   "id": "f909269b",
   "metadata": {},
   "outputs": [
    {
     "data": {
      "text/plain": [
       "Date\n",
       "2004-08-19      49.98\n",
       "2004-08-20      53.95\n",
       "2004-08-23      54.50\n",
       "2004-08-24      52.24\n",
       "2004-08-25      52.80\n",
       "               ...   \n",
       "2019-10-21    1246.15\n",
       "2019-10-22    1242.80\n",
       "2019-10-23    1259.13\n",
       "2019-10-24    1260.99\n",
       "2019-10-25    1265.13\n",
       "Name: Close, Length: 3824, dtype: float64"
      ]
     },
     "execution_count": 28,
     "metadata": {},
     "output_type": "execute_result"
    }
   ],
   "source": [
    "google"
   ]
  },
  {
   "cell_type": "code",
   "execution_count": 29,
   "id": "f9a12380",
   "metadata": {},
   "outputs": [
    {
     "data": {
      "text/plain": [
       "Date\n",
       "2004-08-19      50\n",
       "2004-08-20      54\n",
       "2004-08-23      54\n",
       "2004-08-24      52\n",
       "2004-08-25      53\n",
       "              ... \n",
       "2019-10-21    1246\n",
       "2019-10-22    1243\n",
       "2019-10-23    1259\n",
       "2019-10-24    1261\n",
       "2019-10-25    1265\n",
       "Name: Close, Length: 3824, dtype: int64"
      ]
     },
     "execution_count": 29,
     "metadata": {},
     "output_type": "execute_result"
    }
   ],
   "source": [
    "google.apply(round)"
   ]
  },
  {
   "cell_type": "markdown",
   "id": "394a9a18",
   "metadata": {},
   "source": [
    "El método <code>apply</code> también acepta funciones personalizadas. \n",
    "\n",
    "\n",
    "Digamos que queremos averiguar cuántos de nuestros Pokémon tienen un tipo (como Fuego) y cuántos tienen dos o más tipos."
   ]
  },
  {
   "cell_type": "code",
   "execution_count": 30,
   "id": "de00ad30",
   "metadata": {},
   "outputs": [],
   "source": [
    "def single_or_multi(pokemon_type):\n",
    "    if \"/\" in pokemon_type:\n",
    "        return \"Multi\"\n",
    "    return \"Single\""
   ]
  },
  {
   "cell_type": "markdown",
   "id": "76eb2a2b",
   "metadata": {},
   "source": [
    "\n",
    "El siguiente ejemplo llama al método <code>apply</code> con la función <code>single_or_multi</code> como argumento. Pandas invoca la función <code>single_or_multi</code> para cada valor de <code>Series</code>:"
   ]
  },
  {
   "cell_type": "code",
   "execution_count": 31,
   "id": "788a2b1f",
   "metadata": {},
   "outputs": [
    {
     "data": {
      "text/plain": [
       "Pokemon\n",
       "Abomasnow        Grass / Ice\n",
       "Abra                 Psychic\n",
       "Absol                   Dark\n",
       "Accelgor                 Bug\n",
       "Aegislash      Steel / Ghost\n",
       "                  ...       \n",
       "Zoroark                 Dark\n",
       "Zorua                   Dark\n",
       "Zubat        Poison / Flying\n",
       "Zweilous       Dark / Dragon\n",
       "Zygarde      Dragon / Ground\n",
       "Name: Type, Length: 809, dtype: object"
      ]
     },
     "execution_count": 31,
     "metadata": {},
     "output_type": "execute_result"
    }
   ],
   "source": [
    "pokemon"
   ]
  },
  {
   "cell_type": "code",
   "execution_count": 32,
   "id": "64d05edd",
   "metadata": {},
   "outputs": [
    {
     "data": {
      "text/plain": [
       "Pokemon\n",
       "Abomasnow     Multi\n",
       "Abra         Single\n",
       "Absol        Single\n",
       "Accelgor     Single\n",
       "Aegislash     Multi\n",
       "              ...  \n",
       "Zoroark      Single\n",
       "Zorua        Single\n",
       "Zubat         Multi\n",
       "Zweilous      Multi\n",
       "Zygarde       Multi\n",
       "Name: Type, Length: 809, dtype: object"
      ]
     },
     "execution_count": 32,
     "metadata": {},
     "output_type": "execute_result"
    }
   ],
   "source": [
    "pokemon.apply(single_or_multi)"
   ]
  },
  {
   "cell_type": "markdown",
   "id": "5d6833c6",
   "metadata": {},
   "source": [
    "Averigüemos cuántos Pokémon entran en cada clasificación invocando <code>value_counts</code>:"
   ]
  },
  {
   "cell_type": "code",
   "execution_count": 33,
   "id": "b1a7d3c0",
   "metadata": {},
   "outputs": [
    {
     "data": {
      "text/plain": [
       "Multi     405\n",
       "Single    404\n",
       "Name: Type, dtype: int64"
      ]
     },
     "execution_count": 33,
     "metadata": {},
     "output_type": "execute_result"
    }
   ],
   "source": [
    "pokemon.apply(single_or_multi).value_counts()"
   ]
  },
  {
   "cell_type": "code",
   "execution_count": null,
   "id": "1f63acee",
   "metadata": {},
   "outputs": [],
   "source": []
  },
  {
   "cell_type": "code",
   "execution_count": null,
   "id": "5b7ffc5f",
   "metadata": {},
   "outputs": [],
   "source": []
  },
  {
   "cell_type": "code",
   "execution_count": null,
   "id": "a7465fc9",
   "metadata": {},
   "outputs": [],
   "source": []
  }
 ],
 "metadata": {
  "celltoolbar": "Slideshow",
  "kernelspec": {
   "display_name": "Python 3 (ipykernel)",
   "language": "python",
   "name": "python3"
  },
  "language_info": {
   "codemirror_mode": {
    "name": "ipython",
    "version": 3
   },
   "file_extension": ".py",
   "mimetype": "text/x-python",
   "name": "python",
   "nbconvert_exporter": "python",
   "pygments_lexer": "ipython3",
   "version": "3.7.13"
  }
 },
 "nbformat": 4,
 "nbformat_minor": 5
}
