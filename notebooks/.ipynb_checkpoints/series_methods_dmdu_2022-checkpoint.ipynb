{
 "cells": [
  {
   "cell_type": "markdown",
   "id": "9f5ae473",
   "metadata": {
    "slideshow": {
     "slide_type": "slide"
    }
   },
   "source": [
    "# Métodos del objeto <code>Series</code>"
   ]
  },
  {
   "cell_type": "code",
   "execution_count": 2,
   "id": "3f3d658e",
   "metadata": {
    "slideshow": {
     "slide_type": "slide"
    }
   },
   "outputs": [],
   "source": [
    "import pandas as pd\n",
    "\n",
    "# El parámetro <code>squeeze</code> convierte un <code>DataFrame</code>de una columna en una serie\n",
    "pokemon = pd.read_csv(\"../datos/pokemon.csv\", index_col = \"Pokemon\", squeeze = True)\n",
    "google = pd.read_csv(\"../datos/google_stocks.csv\",parse_dates = [\"Date\"],index_col = \"Date\",squeeze = True)"
   ]
  },
  {
   "cell_type": "code",
   "execution_count": 3,
   "id": "87ece8ea",
   "metadata": {},
   "outputs": [
    {
     "data": {
      "text/plain": [
       "Pokemon\n",
       "Bulbasaur      Grass / Poison\n",
       "Ivysaur        Grass / Poison\n",
       "Venusaur       Grass / Poison\n",
       "Charmander               Fire\n",
       "Charmeleon               Fire\n",
       "                    ...      \n",
       "Stakataka        Rock / Steel\n",
       "Blacephalon      Fire / Ghost\n",
       "Zeraora              Electric\n",
       "Meltan                  Steel\n",
       "Melmetal                Steel\n",
       "Name: Type, Length: 809, dtype: object"
      ]
     },
     "execution_count": 3,
     "metadata": {},
     "output_type": "execute_result"
    }
   ],
   "source": [
    "pokemon"
   ]
  },
  {
   "cell_type": "code",
   "execution_count": 8,
   "id": "0c6b30e5",
   "metadata": {},
   "outputs": [
    {
     "data": {
      "text/plain": [
       "Date\n",
       "2004-09-03      49.82\n",
       "2004-09-01      49.94\n",
       "2004-08-19      49.98\n",
       "2004-09-02      50.57\n",
       "2004-09-07      50.60\n",
       "               ...   \n",
       "2019-04-23    1264.55\n",
       "2019-10-25    1265.13\n",
       "2018-07-26    1268.33\n",
       "2019-04-26    1272.18\n",
       "2019-04-29    1287.58\n",
       "Name: Close, Length: 3824, dtype: float64"
      ]
     },
     "execution_count": 8,
     "metadata": {},
     "output_type": "execute_result"
    }
   ],
   "source": [
    "google.sort_values()"
   ]
  },
  {
   "cell_type": "markdown",
   "id": "a676f849",
   "metadata": {
    "slideshow": {
     "slide_type": "slide"
    }
   },
   "source": [
    "## Sobrescribir una <code>Series</code> con el parámetro <code>inplace</code>"
   ]
  },
  {
   "cell_type": "code",
   "execution_count": 9,
   "id": "b5e8b956",
   "metadata": {},
   "outputs": [
    {
     "data": {
      "text/plain": [
       "Pokemon\n",
       "Abomasnow        Grass / Ice\n",
       "Abra                 Psychic\n",
       "Absol                   Dark\n",
       "Accelgor                 Bug\n",
       "Aegislash      Steel / Ghost\n",
       "                  ...       \n",
       "Zoroark                 Dark\n",
       "Zorua                   Dark\n",
       "Zubat        Poison / Flying\n",
       "Zweilous       Dark / Dragon\n",
       "Zygarde      Dragon / Ground\n",
       "Name: Type, Length: 809, dtype: object"
      ]
     },
     "execution_count": 9,
     "metadata": {},
     "output_type": "execute_result"
    }
   ],
   "source": [
    "pokemon.sort_index(ascending = True)"
   ]
  },
  {
   "cell_type": "code",
   "execution_count": 10,
   "id": "390ecfc8",
   "metadata": {},
   "outputs": [
    {
     "data": {
      "text/plain": [
       "Pokemon\n",
       "Bulbasaur      Grass / Poison\n",
       "Ivysaur        Grass / Poison\n",
       "Venusaur       Grass / Poison\n",
       "Charmander               Fire\n",
       "Charmeleon               Fire\n",
       "                    ...      \n",
       "Stakataka        Rock / Steel\n",
       "Blacephalon      Fire / Ghost\n",
       "Zeraora              Electric\n",
       "Meltan                  Steel\n",
       "Melmetal                Steel\n",
       "Name: Type, Length: 809, dtype: object"
      ]
     },
     "execution_count": 10,
     "metadata": {},
     "output_type": "execute_result"
    }
   ],
   "source": [
    "pokemon"
   ]
  },
  {
   "cell_type": "markdown",
   "id": "0d40c635",
   "metadata": {},
   "source": [
    "¿Y si quisiéramos modificar la <code>Series</code>? Muchos métodos en pandas incluyen un parámetro <code>inplace</code> que, cuando se pasa <code>True</code> como argumento, modifica el objeto en el que se invoca el método."
   ]
  },
  {
   "cell_type": "code",
   "execution_count": 11,
   "id": "3d5a2a41",
   "metadata": {},
   "outputs": [],
   "source": [
    "pokemon.sort_index(ascending = True, inplace = True)"
   ]
  },
  {
   "cell_type": "code",
   "execution_count": 12,
   "id": "74f6b7f4",
   "metadata": {},
   "outputs": [
    {
     "data": {
      "text/plain": [
       "Pokemon\n",
       "Abomasnow        Grass / Ice\n",
       "Abra                 Psychic\n",
       "Absol                   Dark\n",
       "Accelgor                 Bug\n",
       "Aegislash      Steel / Ghost\n",
       "                  ...       \n",
       "Zoroark                 Dark\n",
       "Zorua                   Dark\n",
       "Zubat        Poison / Flying\n",
       "Zweilous       Dark / Dragon\n",
       "Zygarde      Dragon / Ground\n",
       "Name: Type, Length: 809, dtype: object"
      ]
     },
     "execution_count": 12,
     "metadata": {},
     "output_type": "execute_result"
    }
   ],
   "source": [
    "pokemon"
   ]
  },
  {
   "cell_type": "markdown",
   "id": "bcb746ed",
   "metadata": {},
   "source": [
    "## Contar valores con el método <code>value_counts</code>"
   ]
  },
  {
   "cell_type": "code",
   "execution_count": 13,
   "id": "a0556bbc",
   "metadata": {},
   "outputs": [
    {
     "data": {
      "text/plain": [
       "Normal                65\n",
       "Water                 61\n",
       "Grass                 38\n",
       "Psychic               35\n",
       "Fire                  30\n",
       "                      ..\n",
       "Psychic / Grass        1\n",
       "Psychic / Fighting     1\n",
       "Rock / Poison          1\n",
       "Bug / Ground           1\n",
       "Dragon / Electric      1\n",
       "Name: Type, Length: 159, dtype: int64"
      ]
     },
     "execution_count": 13,
     "metadata": {},
     "output_type": "execute_result"
    }
   ],
   "source": [
    "pokemon.value_counts()"
   ]
  },
  {
   "cell_type": "markdown",
   "id": "8890d23a",
   "metadata": {},
   "source": [
    "Puede que nos interese más la proporción de un tipo de Pokémon en relación con todos los tipos.\n",
    "\n",
    "Al establecer el parámetro <code>normalize</code> del método <code>value_counts</code> en <code>True</code> podemos devolver las frecuencias de cada valor único:"
   ]
  },
  {
   "cell_type": "code",
   "execution_count": 4,
   "id": "b8808dd2",
   "metadata": {},
   "outputs": [
    {
     "data": {
      "text/plain": [
       "Normal     0.080346\n",
       "Water      0.075402\n",
       "Grass      0.046972\n",
       "Psychic    0.043263\n",
       "Fire       0.037083\n",
       "Name: Type, dtype: float64"
      ]
     },
     "execution_count": 4,
     "metadata": {},
     "output_type": "execute_result"
    }
   ],
   "source": [
    "pokemon.value_counts(normalize = True).head()"
   ]
  },
  {
   "cell_type": "markdown",
   "id": "efd14e73",
   "metadata": {},
   "source": [
    "\n",
    "Podemos multiplicar los valores de la frecuencia <code>Series</code> por 100 para obtener el porcentaje que cada tipo de Pokémon contribuye al total"
   ]
  },
  {
   "cell_type": "code",
   "execution_count": 5,
   "id": "ba6180a8",
   "metadata": {},
   "outputs": [
    {
     "data": {
      "text/plain": [
       "Normal     8.034611\n",
       "Water      7.540173\n",
       "Grass      4.697157\n",
       "Psychic    4.326329\n",
       "Fire       3.708282\n",
       "Name: Type, dtype: float64"
      ]
     },
     "execution_count": 5,
     "metadata": {},
     "output_type": "execute_result"
    }
   ],
   "source": [
    "pokemon.value_counts(normalize = True).head() * 100"
   ]
  },
  {
   "cell_type": "markdown",
   "id": "22016ab4",
   "metadata": {},
   "source": [
    "We can define intervals as values in a list and pass the list to the value_<code>counts</code> method’s <code>bins</code> parameter. Pandas will use every two subsequent list values as the lower and upper ends of an interval:"
   ]
  },
  {
   "cell_type": "code",
   "execution_count": 16,
   "id": "86370690",
   "metadata": {},
   "outputs": [
    {
     "data": {
      "text/plain": [
       "count    3824.000000\n",
       "mean      479.945860\n",
       "std       328.528592\n",
       "min        49.820000\n",
       "25%       235.860000\n",
       "50%       314.680000\n",
       "75%       708.205000\n",
       "max      1287.580000\n",
       "Name: Close, dtype: float64"
      ]
     },
     "execution_count": 16,
     "metadata": {},
     "output_type": "execute_result"
    }
   ],
   "source": [
    "google.describe()"
   ]
  },
  {
   "cell_type": "code",
   "execution_count": 20,
   "id": "61cc3ffa",
   "metadata": {},
   "outputs": [
    {
     "data": {
      "text/plain": [
       "(-0.001, 200.0]      595\n",
       "(200.0, 400.0]      1568\n",
       "(400.0, 600.0]       575\n",
       "(600.0, 800.0]       380\n",
       "(800.0, 1000.0]      207\n",
       "(1000.0, 1200.0]     406\n",
       "(1200.0, 1400.0]      93\n",
       "Name: Close, dtype: int64"
      ]
     },
     "execution_count": 20,
     "metadata": {},
     "output_type": "execute_result"
    }
   ],
   "source": [
    "buckets = [0, 200, 400, 600, 800, 1000, 1200, 1400]\n",
    "google.value_counts(bins = buckets, sort = False)"
   ]
  },
  {
   "cell_type": "markdown",
   "id": "11af994b",
   "metadata": {},
   "source": [
    "Notice that the first interval includes the value -0.001 instead of 0. When pandas orga-\n",
    "nizes the <code>Series</code>’ values into buckets, it may extend any bin’s range up to .1% in\n",
    "either direction. The symbols around intervals have significance:\n",
    "\n",
    "* A parenthesis marks a value as *excluded* from the interval.\n",
    "* A square bracket marks a value as *included* in the interval."
   ]
  },
  {
   "cell_type": "markdown",
   "id": "d56f4094",
   "metadata": {},
   "source": [
    "The value_counts method’s bins parameter also accepts an integer argument.\n",
    "\n",
    "Pandas will automatically calculate the difference between the maximum and minimum values in the Series and divide the range into the specified number of bins.\n",
    "\n",
    "The next example splits the stock prices in google into six bins."
   ]
  },
  {
   "cell_type": "code",
   "execution_count": 21,
   "id": "969ad1bc",
   "metadata": {},
   "outputs": [
    {
     "data": {
      "text/plain": [
       "(48.581, 256.113]      1204\n",
       "(256.113, 462.407]     1104\n",
       "(462.407, 668.7]        507\n",
       "(668.7, 874.993]        380\n",
       "(874.993, 1081.287]     292\n",
       "(1081.287, 1287.58]     337\n",
       "Name: Close, dtype: int64"
      ]
     },
     "execution_count": 21,
     "metadata": {},
     "output_type": "execute_result"
    }
   ],
   "source": [
    "google.value_counts(bins = 6, sort = False)"
   ]
  },
  {
   "cell_type": "markdown",
   "id": "4c5a8fd8",
   "metadata": {},
   "source": [
    "## Invoking a function on every Series value with the apply method\n",
    "\n",
    "A function is a *first-class object* in Python, which means that the language treats it like any other data type.\n",
    "\n",
    "Here’s the simplest way to think about first-class objects. Anything that you can do with a number, you can do with a function. You can do all the following things, for example:\n",
    "\n",
    "* Store a function in a list.\n",
    "* Assign a function as a value for a dictionary key.\n",
    "* Pass a function into another function as an argument.\n",
    "* Return a function from another function.\n",
    "\n",
    "It’s important to distinguish between a function and a function invocation. \n",
    "A *function* is a sequence of instructions that produces an output; it is a “recipe” that has not been cooked yet. By comparison, a function invocation is the actual execution of the instructions; it is the cooking of the recipe."
   ]
  },
  {
   "cell_type": "markdown",
   "id": "0b808bff",
   "metadata": {},
   "source": [
    "The next example declares a <code>funcs</code> list that stores three Python built-in functions.\n",
    "The <code>len</code> , <code>max</code> , and <code>min</code> functions are not invoked within the list. The list stores references to the functions themselves:"
   ]
  },
  {
   "cell_type": "code",
   "execution_count": 26,
   "id": "cc987a46",
   "metadata": {},
   "outputs": [],
   "source": [
    "funcs = [len,max,min]"
   ]
  },
  {
   "cell_type": "markdown",
   "id": "62b0c120",
   "metadata": {},
   "source": [
    "The next example iterates over the <code>funcs</code> list with a <code>for</code> loop. Over three iterations, the <code>current_func</code> iterator variable represents the uninvoked <code>len</code> , <code>max</code> , and <code>min</code> functions. \n",
    "\n",
    "During each iteration, the <code>loop</code> invokes the dynamic <code>current_func</code> function, passes in the <code>google Series</code> , and prints the return value:"
   ]
  },
  {
   "cell_type": "code",
   "execution_count": 27,
   "id": "ea0492eb",
   "metadata": {},
   "outputs": [
    {
     "name": "stdout",
     "output_type": "stream",
     "text": [
      "len--->3824\n",
      "max--->1287.58\n",
      "min--->49.82\n"
     ]
    }
   ],
   "source": [
    "func_names = [\"len\",\"max\",\"min\"]\n",
    "\n",
    "for name_func,current_func in zip(func_names,funcs):\n",
    "    print(\"{}--->{}\".format(name_func,current_func(google)))"
   ]
  },
  {
   "cell_type": "markdown",
   "id": "54dfbac0",
   "metadata": {
    "slideshow": {
     "slide_type": "slide"
    }
   },
   "source": [
    "**The key takeaway here is that we can treat a function like any other object in\n",
    "Python**.\n",
    "\n",
    "So how does this fact apply to pandas?\n",
    "\n",
    "The <code>Series</code> has a method called <code>apply</code> that invokes a function once for each <code>Series</code> value and returns a new <code>Series</code> consisting of the return values of the function invocations.\n",
    "\n",
    "The <code>apply</code> method expects the function it will invoke as its first parameter, <code>func</code> . \n",
    "\n",
    "The next example passes Python’s built-in <code>round</code> function:"
   ]
  },
  {
   "cell_type": "code",
   "execution_count": 28,
   "id": "1f931b8e",
   "metadata": {},
   "outputs": [
    {
     "data": {
      "text/plain": [
       "Date\n",
       "2004-08-19      49.98\n",
       "2004-08-20      53.95\n",
       "2004-08-23      54.50\n",
       "2004-08-24      52.24\n",
       "2004-08-25      52.80\n",
       "               ...   \n",
       "2019-10-21    1246.15\n",
       "2019-10-22    1242.80\n",
       "2019-10-23    1259.13\n",
       "2019-10-24    1260.99\n",
       "2019-10-25    1265.13\n",
       "Name: Close, Length: 3824, dtype: float64"
      ]
     },
     "execution_count": 28,
     "metadata": {},
     "output_type": "execute_result"
    }
   ],
   "source": [
    "google"
   ]
  },
  {
   "cell_type": "code",
   "execution_count": 29,
   "id": "3957bdfd",
   "metadata": {},
   "outputs": [
    {
     "data": {
      "text/plain": [
       "Date\n",
       "2004-08-19      50\n",
       "2004-08-20      54\n",
       "2004-08-23      54\n",
       "2004-08-24      52\n",
       "2004-08-25      53\n",
       "              ... \n",
       "2019-10-21    1246\n",
       "2019-10-22    1243\n",
       "2019-10-23    1259\n",
       "2019-10-24    1261\n",
       "2019-10-25    1265\n",
       "Name: Close, Length: 3824, dtype: int64"
      ]
     },
     "execution_count": 29,
     "metadata": {},
     "output_type": "execute_result"
    }
   ],
   "source": [
    "google.apply(round)"
   ]
  },
  {
   "cell_type": "markdown",
   "id": "a23aa736",
   "metadata": {},
   "source": [
    "The <code>apply</code> method also accepts custom functions. Define the function to accept a single parameter and have it return the value that you’d like pandas to store in the aggregated <code>Series</code>.\n",
    "\n",
    "Let’s say we wanted to find out how many of our Pokémon have one type (such as\n",
    "Fire) and how many have two or more types."
   ]
  },
  {
   "cell_type": "code",
   "execution_count": 30,
   "id": "a612eb2a",
   "metadata": {},
   "outputs": [],
   "source": [
    "def single_or_multi(pokemon_type):\n",
    "    if \"/\" in pokemon_type:\n",
    "        return \"Multi\"\n",
    "    return \"Single\""
   ]
  },
  {
   "cell_type": "markdown",
   "id": "941011f5",
   "metadata": {},
   "source": [
    "The next example calls the <code>apply</code> method with the <code>single_or_multi</code> function as its argument. Pandas invokes the <code>single_or_multi</code> function for every <code>Series</code> value:"
   ]
  },
  {
   "cell_type": "code",
   "execution_count": 31,
   "id": "26d380a0",
   "metadata": {},
   "outputs": [
    {
     "data": {
      "text/plain": [
       "Pokemon\n",
       "Abomasnow        Grass / Ice\n",
       "Abra                 Psychic\n",
       "Absol                   Dark\n",
       "Accelgor                 Bug\n",
       "Aegislash      Steel / Ghost\n",
       "                  ...       \n",
       "Zoroark                 Dark\n",
       "Zorua                   Dark\n",
       "Zubat        Poison / Flying\n",
       "Zweilous       Dark / Dragon\n",
       "Zygarde      Dragon / Ground\n",
       "Name: Type, Length: 809, dtype: object"
      ]
     },
     "execution_count": 31,
     "metadata": {},
     "output_type": "execute_result"
    }
   ],
   "source": [
    "pokemon"
   ]
  },
  {
   "cell_type": "code",
   "execution_count": 32,
   "id": "2e0bb5ff",
   "metadata": {},
   "outputs": [
    {
     "data": {
      "text/plain": [
       "Pokemon\n",
       "Abomasnow     Multi\n",
       "Abra         Single\n",
       "Absol        Single\n",
       "Accelgor     Single\n",
       "Aegislash     Multi\n",
       "              ...  \n",
       "Zoroark      Single\n",
       "Zorua        Single\n",
       "Zubat         Multi\n",
       "Zweilous      Multi\n",
       "Zygarde       Multi\n",
       "Name: Type, Length: 809, dtype: object"
      ]
     },
     "execution_count": 32,
     "metadata": {},
     "output_type": "execute_result"
    }
   ],
   "source": [
    "pokemon.apply(single_or_multi)"
   ]
  },
  {
   "cell_type": "markdown",
   "id": "18db8b70",
   "metadata": {},
   "source": [
    "Let’s find out how many Pokémon fall into each classification by invoking <code>value_counts</code>:"
   ]
  },
  {
   "cell_type": "code",
   "execution_count": 33,
   "id": "43644da1",
   "metadata": {},
   "outputs": [
    {
     "data": {
      "text/plain": [
       "Multi     405\n",
       "Single    404\n",
       "Name: Type, dtype: int64"
      ]
     },
     "execution_count": 33,
     "metadata": {},
     "output_type": "execute_result"
    }
   ],
   "source": [
    "pokemon.apply(single_or_multi).value_counts()"
   ]
  },
  {
   "cell_type": "code",
   "execution_count": null,
   "id": "3b4d9377",
   "metadata": {},
   "outputs": [],
   "source": []
  },
  {
   "cell_type": "code",
   "execution_count": null,
   "id": "90ad0aec",
   "metadata": {},
   "outputs": [],
   "source": []
  },
  {
   "cell_type": "code",
   "execution_count": null,
   "id": "9005f0e2",
   "metadata": {},
   "outputs": [],
   "source": []
  }
 ],
 "metadata": {
  "celltoolbar": "Slideshow",
  "kernelspec": {
   "display_name": "Python 3 (ipykernel)",
   "language": "python",
   "name": "python3"
  },
  "language_info": {
   "codemirror_mode": {
    "name": "ipython",
    "version": 3
   },
   "file_extension": ".py",
   "mimetype": "text/x-python",
   "name": "python",
   "nbconvert_exporter": "python",
   "pygments_lexer": "ipython3",
   "version": "3.7.13"
  }
 },
 "nbformat": 4,
 "nbformat_minor": 5
}
