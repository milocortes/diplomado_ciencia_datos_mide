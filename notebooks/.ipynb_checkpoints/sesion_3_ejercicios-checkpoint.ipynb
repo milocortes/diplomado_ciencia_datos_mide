{
 "cells": [
  {
   "cell_type": "markdown",
   "metadata": {},
   "source": [
    "## Lectura y escritura de archivos\n",
    "\n",
    "Carga el archivo JSON de nombre <code>feminicidios_municipales_2021.json</code> el cual se encuentra en la carpeta <code>datos</code>. Dicho archivo contiene la tasa de feminicidios presentada en 2021 por municipio de los datos de  *Incidencia delictiva del fuero común 2015-2022*:\n",
    "* https://www.gob.mx/sesnsp/acciones-y-programas/incidencia-delictiva-del-fuero-comun-nueva-metodologia"
   ]
  },
  {
   "attachments": {
    "insertion_sort.png": {
     "image/png": "[encoded data removed]"
    }
   },
   "cell_type": "markdown",
   "metadata": {},
   "source": [
    "## Compresión de listas y diccionarios\n",
    "\n",
    "### a) \n",
    "\n",
    "Con el JSON de <code>feminicidios_municipales_2021.json</code> cargado, extraiga una lista de estados para los cuales al menos uno de sus municipios tuvo una tasa de feminicidios mayor a la tasa nacional la cual fue de 1.1 víctimas por cada 100 mil mujeres.\n",
    "\n",
    "### b)\n",
    "\n",
    "**Insertion sort** es un algoritmo famoso de ordenamiento. El pseudocódigo del algoritmo es el siguiente:\n",
    "\n",
    "![insertion_sort.png](attachment:insertion_sort.png)\n",
    "\n",
    "Tomado de : https://en.wikipedia.org/wiki/Insertion_sort\n",
    "\n",
    "El algoritmo puede ser implementado en Python de una forma muy natural, casi transcribiendo el pseudocódigo.\n"
   ]
  },
  {
   "cell_type": "code",
   "execution_count": 20,
   "metadata": {},
   "outputs": [
    {
     "data": {
      "text/plain": [
       "[1, 3, 23, 45, 56, 57, 89, 121, 343]"
      ]
     },
     "execution_count": 20,
     "metadata": {},
     "output_type": "execute_result"
    }
   ],
   "source": [
    "def insertion_sort(A):\n",
    "    i = 1\n",
    "    while i < len(A):\n",
    "        j = i\n",
    "        while (j > 0) and (A[j-1] > A[j]):\n",
    "            A[j-1],A[j] = A[j],A[j-1] # note que la asignación multiple en python permite este swap\n",
    "            j = j - 1\n",
    "        i = i +1\n",
    "    return A\n",
    "\n",
    "una_lista_desordenada = [343,57,121, 45,23,89,3,1,56]\n",
    "una_lista_ordenada = insertion_sort(una_lista_desordenada)\n",
    "una_lista_ordenada"
   ]
  },
  {
   "cell_type": "markdown",
   "metadata": {},
   "source": [
    "Para que el algoritmo ordene en forma descendente, solo basta con cambiar la dirección de la desigualdad <code>A[j-1] > A[j]</code>:"
   ]
  },
  {
   "cell_type": "code",
   "execution_count": 19,
   "metadata": {},
   "outputs": [
    {
     "data": {
      "text/plain": [
       "[343, 121, 89, 57, 56, 45, 23, 3, 1]"
      ]
     },
     "execution_count": 19,
     "metadata": {},
     "output_type": "execute_result"
    }
   ],
   "source": [
    "def insertion_sort_descendente(A):\n",
    "    i = 1\n",
    "    while i < len(A):\n",
    "        j = i\n",
    "        while (j > 0) and (A[j-1] < A[j]):\n",
    "            A[j-1],A[j] = A[j],A[j-1] # note que la asignación multiple en python permite este swap\n",
    "            j = j - 1\n",
    "        i = i +1\n",
    "    return A\n",
    "\n",
    "una_lista_desordenada = [343,57,121, 45,23,89,3,1,56]\n",
    "una_lista_ordenada = insertion_sort_descendente(una_lista_desordenada)\n",
    "una_lista_ordenada"
   ]
  },
  {
   "cell_type": "markdown",
   "metadata": {},
   "source": [
    "Podemos adaptar este algoritmo para ordenar un diccionario con respecto al sus valores:"
   ]
  },
  {
   "cell_type": "code",
   "execution_count": 26,
   "metadata": {},
   "outputs": [
    {
     "data": {
      "text/plain": [
       "{'g': 343,\n",
       " 't': 121,\n",
       " 'x': 89,\n",
       " 'z': 57,\n",
       " 'p': 56,\n",
       " 'q': 45,\n",
       " 'o': 23,\n",
       " 'y': 3,\n",
       " 'h': 1}"
      ]
     },
     "execution_count": 26,
     "metadata": {},
     "output_type": "execute_result"
    }
   ],
   "source": [
    "def insertion_sort_dict(A_dict):\n",
    "    A = list(A_dict.values())\n",
    "    llaves = list(A_dict.keys())\n",
    "    i = 1\n",
    "    while i < len(A):\n",
    "        j = i\n",
    "        while (j > 0) and (A[j-1] < A[j]):\n",
    "            A[j-1],A[j] = A[j],A[j-1]\n",
    "            llaves[j-1],llaves[j] = llaves[j],llaves[j-1]\n",
    "            j = j - 1\n",
    "        i = i +1\n",
    "    return {k:v for k,v in zip(llaves,A)}\n",
    "\n",
    "dic_desordenado = {\"z\":57,\"t\":121,\"q\":45,\"o\":23,\"g\":343,\"x\":89,\"y\":3,\"h\":1,\"p\":56}\n",
    "insertion_sort_dict(dic_desordenado)"
   ]
  },
  {
   "cell_type": "markdown",
   "metadata": {},
   "source": [
    "Si agregamos un argumento adicional <code>n</code>, podemos agregar a la función anterior la funcionalidad que nos regrese los *n* primeros valores del diccionario ordenado de forma descendente."
   ]
  },
  {
   "cell_type": "code",
   "execution_count": 28,
   "metadata": {},
   "outputs": [
    {
     "data": {
      "text/plain": [
       "{'g': 343, 't': 121, 'x': 89}"
      ]
     },
     "execution_count": 28,
     "metadata": {},
     "output_type": "execute_result"
    }
   ],
   "source": [
    "def insertion_sort_dict(A_dict,n):\n",
    "    A = list(A_dict.values())\n",
    "    llaves = list(A_dict.keys())\n",
    "    i = 1\n",
    "    while i < len(A):\n",
    "        j = i\n",
    "        while (j > 0) and (A[j-1] < A[j]):\n",
    "            A[j-1],A[j] = A[j],A[j-1]\n",
    "            llaves[j-1],llaves[j] = llaves[j],llaves[j-1]\n",
    "            j = j - 1\n",
    "        i = i +1\n",
    "    return {k:v for k,v in zip(llaves[:n],A[:n])}\n",
    "insertion_sort_dict(dic_desordenado,3)"
   ]
  },
  {
   "cell_type": "markdown",
   "metadata": {},
   "source": [
    "**Utiliza la función anterior para encontrar los 5 municipios con la tasa de feminicidios más alta para cada estado.**"
   ]
  },
  {
   "cell_type": "markdown",
   "metadata": {},
   "source": [
    "## Clases y programación orientada a objetos\n",
    "\n",
    "\n",
    "Implementa la clase <code>Micro</code> que herede de la clase <code>Vehiculo</code>, además:\n",
    "\n",
    "* Implemementa el método <code>desacelerar(cantidad)</code> sin permitir que la rapidez sea menor a 0 km/h.\n",
    "* Reimplementa el inicilizador <code>\\_\\_init\\_\\_</code> para que reciba como argumento la ruta del </code>Micro</code> (por ejemplo, Zapata-Mixcoac).\n",
    "* Reimplementa el el método <code>info</code> para que el mensaje sea 'El Micro X con dirección D va a N km/h!', donde X es el nombre del Micro, D la ruta y N la velocidad."
   ]
  }
 ],
 "metadata": {
  "kernelspec": {
   "display_name": "Python 3 (ipykernel)",
   "language": "python",
   "name": "python3"
  },
  "language_info": {
   "codemirror_mode": {
    "name": "ipython",
    "version": 3
   },
   "file_extension": ".py",
   "mimetype": "text/x-python",
   "name": "python",
   "nbconvert_exporter": "python",
   "pygments_lexer": "ipython3",
   "version": "3.7.13"
  }
 },
 "nbformat": 4,
 "nbformat_minor": 4
}
