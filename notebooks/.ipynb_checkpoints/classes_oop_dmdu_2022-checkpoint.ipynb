{
 "cells": [
  {
   "cell_type": "markdown",
   "id": "63928d78",
   "metadata": {
    "slideshow": {
     "slide_type": "slide"
    }
   },
   "source": [
    "# Clases y programación orientada a objetos"
   ]
  },
  {
   "cell_type": "markdown",
   "id": "c85f3217",
   "metadata": {
    "slideshow": {
     "slide_type": "slide"
    }
   },
   "source": [
    "## Definición de clases\n",
    "\n",
    "Una *clase* en Python es un tipo de dato.\n",
    "\n",
    "Todos los tipos de datos integrados por default en Python son clases.\n",
    "\n",
    "Una clase se define con la instrucción <code>class</code>:"
   ]
  },
  {
   "cell_type": "code",
   "execution_count": null,
   "id": "7d1c1128",
   "metadata": {
    "slideshow": {
     "slide_type": "fragment"
    }
   },
   "outputs": [],
   "source": [
    "class MyClass:\n",
    "    body"
   ]
  },
  {
   "cell_type": "markdown",
   "id": "5196fc31",
   "metadata": {
    "slideshow": {
     "slide_type": "fragment"
    }
   },
   "source": [
    "<code>body</code> son instrucciones de Python, por lo general, asignaciones de variables y definiciones de funciones. \n",
    "\n",
    "No se requieren asignaciones ni definiciones de funciones. El cuerpo puede ser solo una sola instrucción <code>pass</code>."
   ]
  },
  {
   "cell_type": "markdown",
   "id": "817d2d90",
   "metadata": {
    "slideshow": {
     "slide_type": "slide"
    }
   },
   "source": [
    "Después de definir la clase, se puede crear un nuevo objeto de esa clase (una instancia de clase) llamando el nombre de la clase como una función:"
   ]
  },
  {
   "cell_type": "code",
   "execution_count": 1,
   "id": "bedd95c5",
   "metadata": {},
   "outputs": [],
   "source": [
    "class MyClass:\n",
    "    pass\n",
    "instance = MyClass()"
   ]
  },
  {
   "cell_type": "markdown",
   "id": "3c4c9e3b",
   "metadata": {},
   "source": [
    "###  Uso de una instancia de clase como estructura o registro"
   ]
  },
  {
   "cell_type": "markdown",
   "id": "35f85b11",
   "metadata": {},
   "source": [
    "Class instances can be used as structures or records. \n",
    "\n",
    "A diferencia de las estructuras C o las clases Java, los campos de datos de una instancia no necesitan declararse con anticipación; se pueden crear sobre la marcha."
   ]
  },
  {
   "cell_type": "code",
   "execution_count": 2,
   "id": "32341c98",
   "metadata": {},
   "outputs": [
    {
     "name": "stdout",
     "output_type": "stream",
     "text": [
      "31.400000000000002\n"
     ]
    }
   ],
   "source": [
    "class Circle:\n",
    "    pass\n",
    "\n",
    "my_circle = Circle()\n",
    "my_circle.radius = 5\n",
    "print(2 * 3.14 * my_circle.radius)"
   ]
  },
  {
   "cell_type": "markdown",
   "id": "6d46213e",
   "metadata": {
    "slideshow": {
     "slide_type": "slide"
    }
   },
   "source": [
    "Se pueden inicializar los campos de una instancia automáticamente al incluir un método de inicialización <code>\\_\\_init\\_\\_</code> en el cuerpo de la clase.\n",
    "\n",
    "\n",
    "Esta función se ejecuta cada vez que se crea una instancia de la clase, con esa nueva instancia como primer argumento, <code>self</code> .\n",
    "\n",
    "Además, a diferencia de las clases de Java o C++, las clases de Python solo pueden tener un método <code>\\_\\_init\\_\\_</code>. Este ejemplo crea una clase <code>Circle</code> con radio igual a 1 por defecto:"
   ]
  },
  {
   "cell_type": "code",
   "execution_count": 4,
   "id": "798265ce",
   "metadata": {
    "slideshow": {
     "slide_type": "fragment"
    }
   },
   "outputs": [
    {
     "name": "stdout",
     "output_type": "stream",
     "text": [
      "6.28\n"
     ]
    }
   ],
   "source": [
    "class Circle:\n",
    "    def __init__(self):\n",
    "        self.radius = 1\n",
    "        \n",
    "my_circle = Circle()\n",
    "print(2 * 3.14 * my_circle.radius)"
   ]
  },
  {
   "cell_type": "code",
   "execution_count": 5,
   "id": "80939ecd",
   "metadata": {
    "slideshow": {
     "slide_type": "fragment"
    }
   },
   "outputs": [
    {
     "name": "stdout",
     "output_type": "stream",
     "text": [
      "31.400000000000002\n"
     ]
    }
   ],
   "source": [
    "my_circle.radius = 5\n",
    "print(2 * 3.14 * my_circle.radius)"
   ]
  },
  {
   "cell_type": "markdown",
   "id": "59e7deb7",
   "metadata": {},
   "source": [
    "Por convención, self es siempre el nombre del primer argumento de <code>\\_\\_init\\_\\_</code>. "
   ]
  },
  {
   "cell_type": "markdown",
   "id": "20f29f31",
   "metadata": {},
   "source": [
    "## Variables de instancia\n",
    "\n",
    "Las variables de instancia son la característica más básica de OOP. "
   ]
  },
  {
   "cell_type": "code",
   "execution_count": 6,
   "id": "7eb501d3",
   "metadata": {
    "slideshow": {
     "slide_type": "fragment"
    }
   },
   "outputs": [],
   "source": [
    "class Circle:\n",
    "    def __init__(self):\n",
    "        self.radius = 1"
   ]
  },
  {
   "cell_type": "markdown",
   "id": "fc07b350",
   "metadata": {
    "slideshow": {
     "slide_type": "fragment"
    }
   },
   "source": [
    "\n",
    "<code>radius</code> es una *variable de instancia* de las instancias de <code>Circle</code>. Es decir, cada instancia de la clase <code>Circle</code> tiene su propia copia de <code>radius</code> , y el valor almacenado en esa copia puede ser diferente de los valores almacenados en la variable <code>radius </code>  de otras instancias."
   ]
  },
  {
   "cell_type": "markdown",
   "id": "fec0bede",
   "metadata": {
    "slideshow": {
     "slide_type": "slide"
    }
   },
   "source": [
    "En Python, pueden crear tantas variables de instancia según sea necesario asignándolas a un campo de una instancia de clase:"
   ]
  },
  {
   "cell_type": "code",
   "execution_count": null,
   "id": "051b206e",
   "metadata": {
    "slideshow": {
     "slide_type": "fragment"
    }
   },
   "outputs": [],
   "source": [
    "instance.variable = value"
   ]
  },
  {
   "cell_type": "markdown",
   "id": "c1a625a8",
   "metadata": {
    "slideshow": {
     "slide_type": "fragment"
    }
   },
   "source": [
    "\n",
    "Si la variable aún no existe, se crea automáticamente, que es tal como <code>\\_\\_init\\_\\_</code> crea la variable <code>radius</code>."
   ]
  },
  {
   "cell_type": "markdown",
   "id": "86d946c9",
   "metadata": {
    "slideshow": {
     "slide_type": "slide"
    }
   },
   "source": [
    "## Metodos\n",
    "\n",
    "Un *método* es una función asociada con una clase particular.\n",
    "\n",
    "Ya vimos el método especial <code>\\_\\_init\\_\\_</code>, que se llama cuando se crea una nueva instancia.\n",
    "\n",
    "En el siguiente ejemplo define otro método, <code>area</code> , para la clase <code>Circle</code>; este método se puede usar para calcular y devolver el área para cualquier instancia de <code>Circle</code>"
   ]
  },
  {
   "cell_type": "code",
   "execution_count": 9,
   "id": "8fdded49",
   "metadata": {
    "slideshow": {
     "slide_type": "fragment"
    }
   },
   "outputs": [
    {
     "name": "stdout",
     "output_type": "stream",
     "text": [
      "28.27431\n"
     ]
    }
   ],
   "source": [
    "class Circle:\n",
    "    def __init__(self):\n",
    "        self.radius = 1\n",
    "    def area(self):\n",
    "        return self.radius * self.radius * 3.14159\n",
    "\n",
    "c = Circle()\n",
    "c.radius = 3\n",
    "print(c.area())"
   ]
  },
  {
   "cell_type": "markdown",
   "id": "44df33a7",
   "metadata": {
    "slideshow": {
     "slide_type": "fragment"
    }
   },
   "source": [
    "\n",
    "La sintaxis de invocación de métodos consta de una instancia, seguida de un punto, seguido del método de la instancia que se invocará."
   ]
  },
  {
   "cell_type": "markdown",
   "id": "f51f416d",
   "metadata": {
    "slideshow": {
     "slide_type": "slide"
    }
   },
   "source": [
    "\n",
    "Los métodos se pueden invocar con argumentos si las definiciones de métodos aceptan argumentos.\n",
    "\n",
    "Esta versión de <code>Circle</code> agrega un argumento al método <code>\\_\\_init\\_\\_</code> para que pueda crear círculos de un radio determinado sin necesidad de establecer el radio después de un se crea el círculo:"
   ]
  },
  {
   "cell_type": "code",
   "execution_count": 10,
   "id": "5be94e4d",
   "metadata": {},
   "outputs": [],
   "source": [
    "class Circle:\n",
    "    def __init__(self,radius):\n",
    "        self.radius = radius\n",
    "    def area(self):\n",
    "        return self.radius * self.radius * 3.14159\n"
   ]
  },
  {
   "cell_type": "markdown",
   "id": "91fe83aa",
   "metadata": {},
   "source": [
    "\n",
    "Usando esta definición de <code>Circle</code> , se pueden crear círculos de cualquier radio con una llamada a la clase <code>Circle</code>. Lo siguiente crea un <code>Círculo</code> de radio 5:"
   ]
  },
  {
   "cell_type": "code",
   "execution_count": 12,
   "id": "0bb1561b",
   "metadata": {},
   "outputs": [],
   "source": [
    "c = Circle(5)"
   ]
  },
  {
   "cell_type": "code",
   "execution_count": 13,
   "id": "c7a4610d",
   "metadata": {},
   "outputs": [],
   "source": [
    "class Circle:\n",
    "    def __init__(self,radius = 3):\n",
    "        self.radius = radius\n",
    "    def area(self):\n",
    "        return self.radius * self.radius * 3.14159"
   ]
  },
  {
   "cell_type": "code",
   "execution_count": 14,
   "id": "fd8c56fa",
   "metadata": {},
   "outputs": [],
   "source": [
    "c = Circle()"
   ]
  },
  {
   "cell_type": "markdown",
   "id": "a7e5eddf",
   "metadata": {},
   "source": [
    "## Métodos estáticos\n",
    "\n",
    "Las clases de Python también pueden tener métodos que corresponden con los métodos estáticos de Java.\n",
    "\n",
    "Al igual que en Java, se puede invocar métodos estáticos aunque no se haya creado ninguna instancia de esa clase, aunque también se puede llamarlos usando una instancia de clase. \n",
    "\n",
    "Para crear un método estático utilizamos el decorador <code>@staticmethod</code>:"
   ]
  },
  {
   "cell_type": "code",
   "execution_count": 20,
   "id": "6d5f60a0",
   "metadata": {},
   "outputs": [],
   "source": [
    "\n",
    "class Circle:\n",
    "    \"\"\"Circle class\"\"\"\n",
    "    all_circles = []\n",
    "    pi = 3.14159\n",
    "    \n",
    "    def __init__(self,r = 1):\n",
    "        \"\"\"Create a Circle with the given radius\"\"\"\n",
    "        self.radius = r\n",
    "        self.__class__.all_circles.append(self)\n",
    "    \n",
    "    def area(self):\n",
    "        \"\"\"determine the area of the Circle\"\"\"\n",
    "        return self.__class__.pi * self.radius * self.radius\n",
    "    \n",
    "    @staticmethod\n",
    "    def total_area():\n",
    "        \"\"\"Static method to total the areas of all Circles\"\"\"\n",
    "        total = 0\n",
    "        for c in Circle.all_circles:\n",
    "            total = total + c.area()\n",
    "        return total\n",
    "    "
   ]
  },
  {
   "cell_type": "code",
   "execution_count": 21,
   "id": "98a6a622",
   "metadata": {},
   "outputs": [
    {
     "data": {
      "text/plain": [
       "15.70795"
      ]
     },
     "execution_count": 21,
     "metadata": {},
     "output_type": "execute_result"
    }
   ],
   "source": [
    "c1 = Circle(1)\n",
    "c2 = Circle(2)\n",
    "Circle.total_area()"
   ]
  },
  {
   "cell_type": "markdown",
   "id": "799877a6",
   "metadata": {},
   "source": [
    "## Inheritance"
   ]
  },
  {
   "cell_type": "code",
   "execution_count": 38,
   "id": "2b5a5f31",
   "metadata": {},
   "outputs": [],
   "source": [
    "# clase base\n",
    "class Vehiculo:\n",
    "    \n",
    "    def __init__(self, nombre='X', rapidez=0):\n",
    "        self.nombre = nombre\n",
    "        self.rapidez = rapidez\n",
    "        \n",
    "    def info(self):\n",
    "        print(f'Vehículo {self.nombre} va a {self.rapidez} km/h.')\n",
    "    \n",
    "    def acelerar(self, cantidad):\n",
    "        self.rapidez = self.rapidez + cantidad \n",
    "\n",
    "# Tamalero hereda de Vehiculo\n",
    "class Triciclo(Vehiculo):\n",
    "    \n",
    "    # reimplementamos el inicializador\n",
    "    def __init__(self,tamales,nombre='X', rapidez=10):\n",
    "        super().__init__(nombre, rapidez)\n",
    "        self.tamales = tamales\n",
    "    \n",
    "    # reimplementamos el método de acelerar\n",
    "    def acelerar(self, porcentaje):\n",
    "        self.rapidez = self.rapidez + self.rapidez * porcentaje "
   ]
  },
  {
   "cell_type": "markdown",
   "id": "d5abde59",
   "metadata": {},
   "source": [
    "Hay (generalmente) dos requisitos para implementar herencia en una clase en Python.\n",
    "\n",
    "* El primer requisito es definir la jerarquía de herencia, lo que se hace dando la clase de la que se hereda, entre paréntesis, inmediatamente después del nombre de la clase que se está definiendo.\n",
    "\n",
    "* El segundo y más sutil elemento es la necesidad de llamar explícitamente al método <code>\\_\\_init\\_\\_</code> de las clases heredadas. Python no hace esto automáticamente por nosotros, pero podemos usar la función <code>super</code> para que Python de cuenta de qué clase se está obteniendo la herencia."
   ]
  },
  {
   "cell_type": "code",
   "execution_count": 39,
   "id": "b65b18a3",
   "metadata": {},
   "outputs": [
    {
     "name": "stdout",
     "output_type": "stream",
     "text": [
      "Vehículo X va a 0 km/h.\n",
      "Vehículo X va a 25 km/h.\n"
     ]
    }
   ],
   "source": [
    "# instanciamos Vehiculo\n",
    "vehiculo = Vehiculo()\n",
    "# veamos su estado\n",
    "vehiculo.info()\n",
    "# modfiquemos el estado\n",
    "vehiculo.acelerar(25)\n",
    "# veamos su estado\n",
    "vehiculo.info()"
   ]
  },
  {
   "cell_type": "code",
   "execution_count": 41,
   "id": "c3282974",
   "metadata": {},
   "outputs": [
    {
     "name": "stdout",
     "output_type": "stream",
     "text": [
      "Vehículo triciclo va a 10 km/h.\n",
      "Vehículo triciclo va a 12.5 km/h.\n"
     ]
    }
   ],
   "source": [
    "# instanciamos Triciclo\n",
    "tamalero = Triciclo(100,\"triciclo\",10)\n",
    "# veamos su estado\n",
    "tamalero.info()\n",
    "# modfiquemos el estado\n",
    "tamalero.acelerar(0.25)\n",
    "# veamos su estado\n",
    "tamalero.info()"
   ]
  },
  {
   "cell_type": "markdown",
   "id": "0dd318dd",
   "metadata": {},
   "source": []
  }
 ],
 "metadata": {
  "celltoolbar": "Slideshow",
  "kernelspec": {
   "display_name": "Python 3 (ipykernel)",
   "language": "python",
   "name": "python3"
  },
  "language_info": {
   "codemirror_mode": {
    "name": "ipython",
    "version": 3
   },
   "file_extension": ".py",
   "mimetype": "text/x-python",
   "name": "python",
   "nbconvert_exporter": "python",
   "pygments_lexer": "ipython3",
   "version": "3.7.11"
  }
 },
 "nbformat": 4,
 "nbformat_minor": 5
}
