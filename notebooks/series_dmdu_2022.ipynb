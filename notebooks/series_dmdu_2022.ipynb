{
 "cells": [
  {
   "cell_type": "markdown",
   "id": "1ab613f8",
   "metadata": {
    "slideshow": {
     "slide_type": "slide"
    }
   },
   "source": [
    "# El objeto <code>Series</code> \n",
    "\n",
    "<a href=\"https://colab.research.google.com/github/milocortes/diplomado_ciencia_datos_mide/blob/main/notebooks/series_dmdu_2022.ipynb\" target=\"_parent\"><img src=\"https://colab.research.google.com/assets/colab-badge.svg\" alt=\"Open In Colab\"/></a>"
   ]
  },
  {
   "cell_type": "markdown",
   "id": "a6710672",
   "metadata": {
    "slideshow": {
     "slide_type": "slide"
    }
   },
   "source": [
    "\n",
    "El objeto <code>Series</code> es un arreglo unidimensional etiquetado de datos homogéneos. El término *homogéneo* significa que los valores son del mismo tipo de datos.\n",
    "\n",
    "    \n",
    "Pandas asigna a cada valor de <code>Series</code> una *etiqueta*-un identificador que podemos usar para ubicar el valor.\n",
    "\n",
    "La <Series> es una estructura de datos unidimensional porque necesitamos un punto de referencia para acceder a un valor: ya sea una etiqueta o una posición.\n",
    "    \n",
    "Vamos a crear un objeto <code>Series</code> a partir de la clase <code>Series</code>. El primer argumento del constructor <code>Series</code> es un objeto iterable cuyos valores llenarán <code>Series</code>."
   ]
  },
  {
   "cell_type": "code",
   "execution_count": 1,
   "id": "a4720757",
   "metadata": {
    "slideshow": {
     "slide_type": "fragment"
    }
   },
   "outputs": [
    {
     "data": {
      "text/plain": [
       "0     Chocolate\n",
       "1       Vanilla\n",
       "2    Strawberry\n",
       "3    Rum Raisin\n",
       "dtype: object"
      ]
     },
     "execution_count": 1,
     "metadata": {},
     "output_type": "execute_result"
    }
   ],
   "source": [
    "import pandas as pd\n",
    "\n",
    "ice_cream_flavors = [\"Chocolate\",\"Vanilla\",\"Strawberry\",\"Rum Raisin\",]\n",
    "\n",
    "pd.Series(data = ice_cream_flavors)"
   ]
  },
  {
   "cell_type": "markdown",
   "id": "61c1b670",
   "metadata": {
    "slideshow": {
     "slide_type": "slide"
    }
   },
   "source": [
    "Además de un índice de posición, podemos asignar a cada valor de <code>Series</code> una etiqueta de índice.\n",
    "\n",
    "Las etiquetas de índice pueden ser de cualquier tipo de datos inmutables: cadenas, tuplas, fechas y horas, etc.\n",
    "\n",
    "Esta flexibilidad hace que una <code>Series</code> sea poderosa: podemos hacer referencia a un valor por su orden o por una clave/etiqueta. En cierto sentido, cada valor tiene dos identificadores."
   ]
  },
  {
   "cell_type": "code",
   "execution_count": 9,
   "id": "89638e6f",
   "metadata": {
    "slideshow": {
     "slide_type": "fragment"
    }
   },
   "outputs": [
    {
     "data": {
      "text/plain": [
       "Monday        Chocolate\n",
       "Wednesday       Vanilla\n",
       "Friday       Strawberry\n",
       "Saturday     Rum Raisin\n",
       "dtype: object"
      ]
     },
     "execution_count": 9,
     "metadata": {},
     "output_type": "execute_result"
    }
   ],
   "source": [
    "days_of_week = (\"Monday\", \"Wednesday\", \"Friday\", \"Saturday\")\n",
    "# Las dos líneas siguientes son equivalentes.\n",
    "pd.Series(ice_cream_flavors, days_of_week)\n",
    "pd.Series(data = ice_cream_flavors, index = days_of_week)"
   ]
  },
  {
   "cell_type": "markdown",
   "id": "f3416c21",
   "metadata": {
    "slideshow": {
     "slide_type": "slide"
    }
   },
   "source": [
    "podemos acceder al valor <code>\"Vanilla\"</code> ya sea por la etiqueta de índice <code>\"Wednesday\" </code> o por la posición de índice 1"
   ]
  },
  {
   "cell_type": "code",
   "execution_count": 10,
   "id": "c5566671",
   "metadata": {
    "slideshow": {
     "slide_type": "fragment"
    }
   },
   "outputs": [
    {
     "data": {
      "text/plain": [
       "'Vanilla'"
      ]
     },
     "execution_count": 10,
     "metadata": {},
     "output_type": "execute_result"
    }
   ],
   "source": [
    "serie = pd.Series(ice_cream_flavors, days_of_week)\n",
    "serie[1]"
   ]
  },
  {
   "cell_type": "code",
   "execution_count": 11,
   "id": "d45f8531",
   "metadata": {
    "slideshow": {
     "slide_type": "fragment"
    }
   },
   "outputs": [
    {
     "data": {
      "text/plain": [
       "'Vanilla'"
      ]
     },
     "execution_count": 11,
     "metadata": {},
     "output_type": "execute_result"
    }
   ],
   "source": [
    "serie[\"Wednesday\"]"
   ]
  },
  {
   "cell_type": "markdown",
   "id": "38001511",
   "metadata": {
    "slideshow": {
     "slide_type": "slide"
    }
   },
   "source": [
    "La instrucción <code>dtype</code> en la parte inferior refleja el tipo de datos de los valores en la <code>Series</code>. \n",
    "\n",
    "Para la mayoría de los tipos de datos, pandas mostrará un tipo predecible (como <code>bool</code>, <code>float</code> o <code>int</code>). \n",
    "\n",
    "Para cadenas y objetos más complejos (como estructuras de datos anidadas), los pandas mostrarán <code>dtype:object<code>."
   ]
  },
  {
   "cell_type": "code",
   "execution_count": 12,
   "id": "1af84ac1",
   "metadata": {
    "slideshow": {
     "slide_type": "fragment"
    }
   },
   "outputs": [
    {
     "data": {
      "text/plain": [
       "0     True\n",
       "1    False\n",
       "2    False\n",
       "dtype: bool"
      ]
     },
     "execution_count": 12,
     "metadata": {},
     "output_type": "execute_result"
    }
   ],
   "source": [
    "bunch_of_bools = [True, False, False]\n",
    "pd.Series(bunch_of_bools)"
   ]
  },
  {
   "cell_type": "code",
   "execution_count": 14,
   "id": "c1f674a8",
   "metadata": {
    "slideshow": {
     "slide_type": "fragment"
    }
   },
   "outputs": [
    {
     "data": {
      "text/plain": [
       "Open     985.32\n",
       "Close    950.44\n",
       "dtype: float64"
      ]
     },
     "execution_count": 14,
     "metadata": {},
     "output_type": "execute_result"
    }
   ],
   "source": [
    "stock_prices = [985.32, 950.44]\n",
    "time_of_day = [\"Open\", \"Close\"]\n",
    "pd.Series(data = stock_prices, index = time_of_day)"
   ]
  },
  {
   "cell_type": "code",
   "execution_count": 15,
   "id": "9ca7a85d",
   "metadata": {
    "slideshow": {
     "slide_type": "fragment"
    }
   },
   "outputs": [
    {
     "data": {
      "text/plain": [
       "0     4\n",
       "1     8\n",
       "2    15\n",
       "3    16\n",
       "4    23\n",
       "5    42\n",
       "dtype: int64"
      ]
     },
     "execution_count": 15,
     "metadata": {},
     "output_type": "execute_result"
    }
   ],
   "source": [
    "lucky_numbers = [4, 8, 15, 16, 23, 42]\n",
    "pd.Series(lucky_numbers)"
   ]
  },
  {
   "cell_type": "markdown",
   "id": "a633ca55",
   "metadata": {
    "slideshow": {
     "slide_type": "slide"
    }
   },
   "source": [
    "El siguiente ejemplo pasa una lista de enteros al constructor pero pide una <code>Series</code> de punto flotante:"
   ]
  },
  {
   "cell_type": "code",
   "execution_count": 16,
   "id": "757b502e",
   "metadata": {
    "slideshow": {
     "slide_type": "fragment"
    }
   },
   "outputs": [
    {
     "data": {
      "text/plain": [
       "0     4.0\n",
       "1     8.0\n",
       "2    15.0\n",
       "3    16.0\n",
       "4    23.0\n",
       "5    42.0\n",
       "dtype: float64"
      ]
     },
     "execution_count": 16,
     "metadata": {},
     "output_type": "execute_result"
    }
   ],
   "source": [
    "lucky_numbers = [4, 8, 15, 16, 23, 42]\n",
    "pd.Series(lucky_numbers, dtype = \"float\")"
   ]
  },
  {
   "cell_type": "markdown",
   "id": "70c6f13d",
   "metadata": {
    "slideshow": {
     "slide_type": "slide"
    }
   },
   "source": [
    "## Creando <code>Series</code> con valores faltantes\n",
    "\n",
    "Cuando pandas ve un valor que falta durante la importación de un archivo, la biblioteca lo sustituye con el objeto <code>nan</code> de NumPy: <code>nan</code> es un objeto de marcador de posición que representa nulidad o ausencia."
   ]
  },
  {
   "cell_type": "code",
   "execution_count": 4,
   "id": "cb17254d",
   "metadata": {
    "slideshow": {
     "slide_type": "fragment"
    }
   },
   "outputs": [
    {
     "data": {
      "text/plain": [
       "0    94.0\n",
       "1    88.0\n",
       "2     NaN\n",
       "3    91.0\n",
       "dtype: float64"
      ]
     },
     "execution_count": 4,
     "metadata": {},
     "output_type": "execute_result"
    }
   ],
   "source": [
    "import numpy as np\n",
    "temperatures = [94, 88, np.nan, 91]\n",
    "pd.Series(data = temperatures)"
   ]
  },
  {
   "cell_type": "markdown",
   "id": "f2e69a14",
   "metadata": {
    "slideshow": {
     "slide_type": "fragment"
    }
   },
   "source": [
    "Tenga en cuenta que el tipo de serie es float64 . Pandas convierte automáticamente los valores numéricos de enteros a puntos flotantes cuando detecta un valor <code>nan</code>"
   ]
  },
  {
   "cell_type": "markdown",
   "id": "6e22041b",
   "metadata": {
    "slideshow": {
     "slide_type": "slide"
    }
   },
   "source": [
    "## Creación de un objeto <code>Serie</code> a partir de objetos de Python\n",
    "\n",
    "El parámetro <code>data</code> del constructor <code>Series</code> acepta varias entradas, incluidas estructuras de datos nativas de Python y objetos de otras bibliotecas.\n",
    "\n",
    "Exploraremos cómo el constructor <code>Series</code> trata con diccionarios, tuplas y arreglos de NumPy.\n",
    "\n",
    "Cuando se le pasa un diccionario, el constructor establece cada llave como una etiqueta de índice correspondiente en la <code>Series</code>:"
   ]
  },
  {
   "cell_type": "code",
   "execution_count": 2,
   "id": "d3146823",
   "metadata": {
    "slideshow": {
     "slide_type": "fragment"
    }
   },
   "outputs": [
    {
     "data": {
      "text/plain": [
       "Cereal              125\n",
       "Chocolate Bar       406\n",
       "Ice Cream Sundae    342\n",
       "dtype: int64"
      ]
     },
     "execution_count": 2,
     "metadata": {},
     "output_type": "execute_result"
    }
   ],
   "source": [
    "calorie_info = {\"Cereal\": 125,\"Chocolate Bar\": 406,\"Ice Cream Sundae\": 342,}\n",
    "diet = pd.Series(calorie_info)\n",
    "diet"
   ]
  },
  {
   "cell_type": "markdown",
   "id": "3877b1ed",
   "metadata": {
    "slideshow": {
     "slide_type": "fragment"
    }
   },
   "source": [
    "Cuando se pasa una tupla, el constructor llena la Serie de la manera esperada:"
   ]
  },
  {
   "cell_type": "code",
   "execution_count": 20,
   "id": "b027cf96",
   "metadata": {
    "slideshow": {
     "slide_type": "fragment"
    }
   },
   "outputs": [
    {
     "data": {
      "text/plain": [
       "0      Red\n",
       "1    Green\n",
       "2     Blue\n",
       "dtype: object"
      ]
     },
     "execution_count": 20,
     "metadata": {},
     "output_type": "execute_result"
    }
   ],
   "source": [
    "pd.Series(data = (\"Red\", \"Green\", \"Blue\"))"
   ]
  },
  {
   "cell_type": "markdown",
   "id": "0d34ce1d",
   "metadata": {
    "slideshow": {
     "slide_type": "slide"
    }
   },
   "source": [
    "El parámetro <code>data</code> del constructor <code>Series</code> también acepta un objeto NumPy <code>ndarray</code>. \n",
    "\n",
    "El siguiente ejemplo alimenta al constructor <code>Series</code> con un <code>ndarray</code> generado por la función <code>randint</code> de NumPy:"
   ]
  },
  {
   "cell_type": "code",
   "execution_count": 5,
   "id": "c3d64d88",
   "metadata": {
    "slideshow": {
     "slide_type": "fragment"
    }
   },
   "outputs": [
    {
     "data": {
      "text/plain": [
       "array([29, 38, 92, 13, 12, 54, 70, 14, 96, 43])"
      ]
     },
     "execution_count": 5,
     "metadata": {},
     "output_type": "execute_result"
    }
   ],
   "source": [
    "random_data = np.random.randint(1, 101, 10)\n",
    "random_data"
   ]
  },
  {
   "cell_type": "code",
   "execution_count": 6,
   "id": "602b1957",
   "metadata": {
    "slideshow": {
     "slide_type": "fragment"
    }
   },
   "outputs": [
    {
     "data": {
      "text/plain": [
       "0    29\n",
       "1    38\n",
       "2    92\n",
       "3    13\n",
       "4    12\n",
       "5    54\n",
       "6    70\n",
       "7    14\n",
       "8    96\n",
       "9    43\n",
       "dtype: int64"
      ]
     },
     "execution_count": 6,
     "metadata": {},
     "output_type": "execute_result"
    }
   ],
   "source": [
    "pd.Series(random_data)"
   ]
  },
  {
   "cell_type": "markdown",
   "id": "216ced3b",
   "metadata": {
    "slideshow": {
     "slide_type": "slide"
    }
   },
   "source": [
    "## Atributos del objeto <code>Series</code>\n",
    "\n",
    "El atributo <code>values</code> expone el objeto que almacena los valores:"
   ]
  },
  {
   "cell_type": "code",
   "execution_count": 26,
   "id": "05a855e8",
   "metadata": {
    "slideshow": {
     "slide_type": "fragment"
    }
   },
   "outputs": [
    {
     "data": {
      "text/plain": [
       "array([125, 406, 342])"
      ]
     },
     "execution_count": 26,
     "metadata": {},
     "output_type": "execute_result"
    }
   ],
   "source": [
    "diet = pd.Series(calorie_info)\n",
    "diet.values"
   ]
  },
  {
   "cell_type": "markdown",
   "id": "1bdcc6ec",
   "metadata": {
    "slideshow": {
     "slide_type": "fragment"
    }
   },
   "source": [
    "Pandas delega la responsabilidad de almacenar valores <code>Series</code> a un objeto de una biblioteca diferente.\n",
    "\n",
    "\n",
    "Es por eso que NumPy es una dependencia de pandas. El objeto <code>ndarray</code> optimiza la velocidad y la eficiencia al delegar muchos de sus cálculos al lenguaje de programación de bajo nivel C. \n",
    "\n",
    "\n",
    "En muchos sentidos, <code>Series</code> es un contenedor, una capa adicional de funcionalidad alrededor de un objeto de biblioteca NumPy central."
   ]
  },
  {
   "cell_type": "markdown",
   "id": "2ce1de93",
   "metadata": {
    "slideshow": {
     "slide_type": "slide"
    }
   },
   "source": [
    "\n",
    "El atributo <code>index</code> devuelve el objeto <code>Index</code> que almacena las etiquetas <code>Series</code>:"
   ]
  },
  {
   "cell_type": "code",
   "execution_count": 27,
   "id": "55183d94",
   "metadata": {
    "slideshow": {
     "slide_type": "fragment"
    }
   },
   "outputs": [
    {
     "data": {
      "text/plain": [
       "Index(['Cereal', 'Chocolate Bar', 'Ice Cream Sundae'], dtype='object')"
      ]
     },
     "execution_count": 27,
     "metadata": {},
     "output_type": "execute_result"
    }
   ],
   "source": [
    "diet.index"
   ]
  },
  {
   "cell_type": "markdown",
   "id": "c060ec4a",
   "metadata": {
    "slideshow": {
     "slide_type": "fragment"
    }
   },
   "source": [
    "Algunos atributos revelan detalles útiles sobre el objeto. <code>dtype</code> , por ejemplo, devuelve el tipo de datos de los valores de <code>Series</code>:"
   ]
  },
  {
   "cell_type": "code",
   "execution_count": 28,
   "id": "a6188a29",
   "metadata": {
    "slideshow": {
     "slide_type": "fragment"
    }
   },
   "outputs": [
    {
     "data": {
      "text/plain": [
       "dtype('int64')"
      ]
     },
     "execution_count": 28,
     "metadata": {},
     "output_type": "execute_result"
    }
   ],
   "source": [
    "diet.dtype"
   ]
  },
  {
   "cell_type": "markdown",
   "id": "dcde43fe",
   "metadata": {
    "slideshow": {
     "slide_type": "fragment"
    }
   },
   "source": [
    "\n",
    "El atributo <code>is_unique</code> devuelve <code>True</code> si todos los valores de <code>Series</code> son únicos:"
   ]
  },
  {
   "cell_type": "code",
   "execution_count": 29,
   "id": "bbf79293",
   "metadata": {},
   "outputs": [
    {
     "data": {
      "text/plain": [
       "True"
      ]
     },
     "execution_count": 29,
     "metadata": {},
     "output_type": "execute_result"
    }
   ],
   "source": [
    "diet.is_unique"
   ]
  },
  {
   "cell_type": "markdown",
   "id": "e82ff770",
   "metadata": {
    "slideshow": {
     "slide_type": "slide"
    }
   },
   "source": [
    "## Operaciones matemáticas\n",
    "\n",
    "### Operaciones estadísticas"
   ]
  },
  {
   "cell_type": "code",
   "execution_count": 7,
   "id": "d1add8ac",
   "metadata": {
    "slideshow": {
     "slide_type": "fragment"
    }
   },
   "outputs": [
    {
     "data": {
      "text/plain": [
       "0    1.0\n",
       "1    2.0\n",
       "2    3.0\n",
       "3    NaN\n",
       "4    4.0\n",
       "5    5.0\n",
       "dtype: float64"
      ]
     },
     "execution_count": 7,
     "metadata": {},
     "output_type": "execute_result"
    }
   ],
   "source": [
    "numbers = pd.Series([1, 2, 3, np.nan, 4, 5])\n",
    "numbers"
   ]
  },
  {
   "cell_type": "markdown",
   "id": "2c4ae72a",
   "metadata": {
    "slideshow": {
     "slide_type": "fragment"
    }
   },
   "source": [
    "\n",
    "El método <code>count</code> cuenta el número de valores no nulos:"
   ]
  },
  {
   "cell_type": "code",
   "execution_count": 32,
   "id": "0308a6a5",
   "metadata": {
    "slideshow": {
     "slide_type": "fragment"
    }
   },
   "outputs": [
    {
     "data": {
      "text/plain": [
       "5"
      ]
     },
     "execution_count": 32,
     "metadata": {},
     "output_type": "execute_result"
    }
   ],
   "source": [
    "numbers.count()"
   ]
  },
  {
   "cell_type": "markdown",
   "id": "edcd30fb",
   "metadata": {
    "slideshow": {
     "slide_type": "fragment"
    }
   },
   "source": [
    "El método <code>sum</code> suma los valores de <code>Series</code>:"
   ]
  },
  {
   "cell_type": "code",
   "execution_count": 34,
   "id": "25d0e63c",
   "metadata": {
    "slideshow": {
     "slide_type": "fragment"
    }
   },
   "outputs": [
    {
     "data": {
      "text/plain": [
       "15.0"
      ]
     },
     "execution_count": 34,
     "metadata": {},
     "output_type": "execute_result"
    }
   ],
   "source": [
    "numbers.sum()"
   ]
  },
  {
   "cell_type": "markdown",
   "id": "748167de",
   "metadata": {
    "slideshow": {
     "slide_type": "slide"
    }
   },
   "source": [
    "La mayoría de los métodos matemáticos ignoran los valores perdidos por defecto. Podemos pasar un argumento de <code>False</code> al parámetro <code>skipna</code> para forzar la inclusión de valores faltantes."
   ]
  },
  {
   "cell_type": "code",
   "execution_count": 35,
   "id": "a4739513",
   "metadata": {
    "slideshow": {
     "slide_type": "fragment"
    }
   },
   "outputs": [
    {
     "data": {
      "text/plain": [
       "nan"
      ]
     },
     "execution_count": 35,
     "metadata": {},
     "output_type": "execute_result"
    }
   ],
   "source": [
    "numbers.sum(skipna = False)"
   ]
  },
  {
   "cell_type": "markdown",
   "id": "f0001594",
   "metadata": {
    "slideshow": {
     "slide_type": "fragment"
    }
   },
   "source": [
    "\n",
    "El método <code>product</code> multiplica todos los valores de <code>Series</code> juntos:"
   ]
  },
  {
   "cell_type": "code",
   "execution_count": null,
   "id": "a241683d",
   "metadata": {
    "slideshow": {
     "slide_type": "fragment"
    }
   },
   "outputs": [],
   "source": [
    "numbers.product()"
   ]
  },
  {
   "cell_type": "markdown",
   "id": "5d8e5758",
   "metadata": {
    "slideshow": {
     "slide_type": "slide"
    }
   },
   "source": [
    "El método <code>cumsum</code> (suma acumulativa) devuelve una nueva <code>Series</code> con una suma continua de valores. \n",
    "\n",
    "Cada posición de índice contiene la suma de valores hasta el valor de ese índice incluido. \n",
    "\n",
    "Una suma acumulativa ayuda a determinar qué valores contribuyen más al total:"
   ]
  },
  {
   "cell_type": "code",
   "execution_count": 37,
   "id": "e81d357e",
   "metadata": {
    "slideshow": {
     "slide_type": "fragment"
    }
   },
   "outputs": [
    {
     "data": {
      "text/plain": [
       "0    1.0\n",
       "1    2.0\n",
       "2    3.0\n",
       "3    NaN\n",
       "4    4.0\n",
       "5    5.0\n",
       "dtype: float64"
      ]
     },
     "execution_count": 37,
     "metadata": {},
     "output_type": "execute_result"
    }
   ],
   "source": [
    "numbers"
   ]
  },
  {
   "cell_type": "code",
   "execution_count": 36,
   "id": "bc5a85fd",
   "metadata": {
    "slideshow": {
     "slide_type": "fragment"
    }
   },
   "outputs": [
    {
     "data": {
      "text/plain": [
       "0     1.0\n",
       "1     3.0\n",
       "2     6.0\n",
       "3     NaN\n",
       "4    10.0\n",
       "5    15.0\n",
       "dtype: float64"
      ]
     },
     "execution_count": 36,
     "metadata": {},
     "output_type": "execute_result"
    }
   ],
   "source": [
    "numbers.cumsum()"
   ]
  },
  {
   "cell_type": "markdown",
   "id": "898784c6",
   "metadata": {
    "slideshow": {
     "slide_type": "slide"
    }
   },
   "source": [
    "El método <code>mean</code> devuelve el promedio de los valores en <code>Series</code> ."
   ]
  },
  {
   "cell_type": "code",
   "execution_count": 38,
   "id": "ca2b4ebb",
   "metadata": {
    "slideshow": {
     "slide_type": "fragment"
    }
   },
   "outputs": [
    {
     "data": {
      "text/plain": [
       "3.0"
      ]
     },
     "execution_count": 38,
     "metadata": {},
     "output_type": "execute_result"
    }
   ],
   "source": [
    "numbers.mean()"
   ]
  },
  {
   "cell_type": "markdown",
   "id": "70988088",
   "metadata": {
    "slideshow": {
     "slide_type": "fragment"
    }
   },
   "source": [
    "\n",
    "El método <code>median</code> devuelve el número del medio en una <code>Series</code> ordenada de valores"
   ]
  },
  {
   "cell_type": "code",
   "execution_count": 39,
   "id": "e2e46cb4",
   "metadata": {
    "slideshow": {
     "slide_type": "fragment"
    }
   },
   "outputs": [
    {
     "data": {
      "text/plain": [
       "3.0"
      ]
     },
     "execution_count": 39,
     "metadata": {},
     "output_type": "execute_result"
    }
   ],
   "source": [
    "numbers.median()"
   ]
  },
  {
   "cell_type": "markdown",
   "id": "bf60fdb8",
   "metadata": {
    "slideshow": {
     "slide_type": "fragment"
    }
   },
   "source": [
    "El método <code>std</code> devuelve la desviación estándar, una medida de la variación en los datos"
   ]
  },
  {
   "cell_type": "code",
   "execution_count": 40,
   "id": "41501c88",
   "metadata": {
    "slideshow": {
     "slide_type": "fragment"
    }
   },
   "outputs": [
    {
     "data": {
      "text/plain": [
       "1.5811388300841898"
      ]
     },
     "execution_count": 40,
     "metadata": {},
     "output_type": "execute_result"
    }
   ],
   "source": [
    "numbers.std()"
   ]
  },
  {
   "cell_type": "markdown",
   "id": "98c09070",
   "metadata": {
    "slideshow": {
     "slide_type": "slide"
    }
   },
   "source": [
    "\n",
    "Los métodos <code>max</code> y <code>min</code> recuperan el valor máximo y mínimo de la <code>Series</code> :"
   ]
  },
  {
   "cell_type": "code",
   "execution_count": null,
   "id": "8542ca26",
   "metadata": {
    "slideshow": {
     "slide_type": "fragment"
    }
   },
   "outputs": [],
   "source": [
    "numbers.max(),numbers.min()"
   ]
  },
  {
   "cell_type": "markdown",
   "id": "62a42098",
   "metadata": {
    "slideshow": {
     "slide_type": "fragment"
    }
   },
   "source": [
    "\n",
    "<code>describe</code> devuelve una <code>Series</code> de descripciones estadísticas: conteo, media y la desviación estándar:"
   ]
  },
  {
   "cell_type": "code",
   "execution_count": 41,
   "id": "1b9723be",
   "metadata": {
    "slideshow": {
     "slide_type": "fragment"
    }
   },
   "outputs": [
    {
     "data": {
      "text/plain": [
       "count    5.000000\n",
       "mean     3.000000\n",
       "std      1.581139\n",
       "min      1.000000\n",
       "25%      2.000000\n",
       "50%      3.000000\n",
       "75%      4.000000\n",
       "max      5.000000\n",
       "dtype: float64"
      ]
     },
     "execution_count": 41,
     "metadata": {},
     "output_type": "execute_result"
    }
   ],
   "source": [
    "numbers.describe()"
   ]
  },
  {
   "cell_type": "markdown",
   "id": "22bc637c",
   "metadata": {
    "slideshow": {
     "slide_type": "slide"
    }
   },
   "source": [
    "The <code>sample</code> method selects a random assortment of values from the <code>Series</code>."
   ]
  },
  {
   "cell_type": "code",
   "execution_count": 8,
   "id": "5c983d1a",
   "metadata": {
    "slideshow": {
     "slide_type": "fragment"
    }
   },
   "outputs": [
    {
     "data": {
      "text/plain": [
       "2    3.0\n",
       "0    1.0\n",
       "1    2.0\n",
       "dtype: float64"
      ]
     },
     "execution_count": 8,
     "metadata": {},
     "output_type": "execute_result"
    }
   ],
   "source": [
    "numbers.sample(3)"
   ]
  },
  {
   "cell_type": "markdown",
   "id": "4452a7ee",
   "metadata": {
    "slideshow": {
     "slide_type": "slide"
    }
   },
   "source": [
    "### Operaciones aritméticas\n",
    "\n",
    "\n",
    "Podemos realizar operaciones aritméticas en una <code>Series</code> con los operadores matemáticos estándar de Python:\n",
    "\n",
    "* <code>+</code> para sumar\n",
    "* <code>-</code> para restar\n",
    "* <code>*</code> para multiplicar\n",
    "* <code>/</code> para dividir"
   ]
  },
  {
   "cell_type": "code",
   "execution_count": 43,
   "id": "51167fc3",
   "metadata": {
    "slideshow": {
     "slide_type": "fragment"
    }
   },
   "outputs": [
    {
     "data": {
      "text/plain": [
       "A     5.0\n",
       "B     NaN\n",
       "C    15.0\n",
       "dtype: float64"
      ]
     },
     "execution_count": 43,
     "metadata": {},
     "output_type": "execute_result"
    }
   ],
   "source": [
    "s1 = pd.Series(data = [5, np.nan, 15], index = [\"A\", \"B\", \"C\"])\n",
    "s1"
   ]
  },
  {
   "cell_type": "markdown",
   "id": "1c67a68b",
   "metadata": {
    "slideshow": {
     "slide_type": "slide"
    }
   },
   "source": [
    "\n",
    "El siguiente ejemplo agrega 3 a cada valor en la <code>Series</code> <code>s1</code>  :"
   ]
  },
  {
   "cell_type": "code",
   "execution_count": 44,
   "id": "663e6466",
   "metadata": {
    "slideshow": {
     "slide_type": "fragment"
    }
   },
   "outputs": [
    {
     "data": {
      "text/plain": [
       "A     8.0\n",
       "B     NaN\n",
       "C    18.0\n",
       "dtype: float64"
      ]
     },
     "execution_count": 44,
     "metadata": {},
     "output_type": "execute_result"
    }
   ],
   "source": [
    "s1 + 3"
   ]
  },
  {
   "cell_type": "markdown",
   "id": "0978d810",
   "metadata": {
    "slideshow": {
     "slide_type": "fragment"
    }
   },
   "source": [
    "\n",
    "Si se prefiere un enfoque basado en métodos, el método <code>add</code> logra el mismo resultado:"
   ]
  },
  {
   "cell_type": "code",
   "execution_count": 45,
   "id": "54fe30d2",
   "metadata": {
    "slideshow": {
     "slide_type": "fragment"
    }
   },
   "outputs": [
    {
     "data": {
      "text/plain": [
       "A     8.0\n",
       "B     NaN\n",
       "C    18.0\n",
       "dtype: float64"
      ]
     },
     "execution_count": 45,
     "metadata": {},
     "output_type": "execute_result"
    }
   ],
   "source": [
    "s1.add(3)"
   ]
  },
  {
   "cell_type": "markdown",
   "id": "6defa5f4",
   "metadata": {
    "slideshow": {
     "slide_type": "slide"
    }
   },
   "source": [
    "\n",
    "Los siguientes tres ejemplos muestran las opciones de sintaxis complementarias para resta ( <code>-</code> ), multiplicación ( <code>*</code>) y división ( <code>/</code> ). \n",
    "\n",
    "A menudo, hay varias formas de realizar la misma operación en pandas:"
   ]
  },
  {
   "cell_type": "code",
   "execution_count": 46,
   "id": "994cac52",
   "metadata": {
    "slideshow": {
     "slide_type": "fragment"
    }
   },
   "outputs": [
    {
     "data": {
      "text/plain": [
       "A     0.0\n",
       "B     NaN\n",
       "C    10.0\n",
       "dtype: float64"
      ]
     },
     "execution_count": 46,
     "metadata": {},
     "output_type": "execute_result"
    }
   ],
   "source": [
    "s1 - 5\n",
    "s1.sub(5)"
   ]
  },
  {
   "cell_type": "code",
   "execution_count": 47,
   "id": "3f8de1a1",
   "metadata": {
    "slideshow": {
     "slide_type": "fragment"
    }
   },
   "outputs": [
    {
     "data": {
      "text/plain": [
       "A    10.0\n",
       "B     NaN\n",
       "C    30.0\n",
       "dtype: float64"
      ]
     },
     "execution_count": 47,
     "metadata": {},
     "output_type": "execute_result"
    }
   ],
   "source": [
    "s1 * 2\n",
    "s1.mul(2)"
   ]
  },
  {
   "cell_type": "code",
   "execution_count": 48,
   "id": "df1866ce",
   "metadata": {
    "slideshow": {
     "slide_type": "fragment"
    }
   },
   "outputs": [
    {
     "data": {
      "text/plain": [
       "A    2.5\n",
       "B    NaN\n",
       "C    7.5\n",
       "dtype: float64"
      ]
     },
     "execution_count": 48,
     "metadata": {},
     "output_type": "execute_result"
    }
   ],
   "source": [
    "s1 / 2\n",
    "s1.div(2)"
   ]
  },
  {
   "cell_type": "markdown",
   "id": "482a3fa8",
   "metadata": {
    "slideshow": {
     "slide_type": "slide"
    }
   },
   "source": [
    "### Broadcasting\n",
    "\n",
    "Recuerda que, debajo de escena, pandas almacena los valores de <code>Series</code> en un NumPy <code>ndarray</code>.\n",
    "\n",
    "Ya vimos que el broadcasting en numpy consiste en llevar dos arreglos a la misma forma reorganizando los datos.\n",
    "\n",
    "\n",
    "El broadcasting también describe operaciones matemáticas entre múltiples objetos <code>Series</code>.\n",
    "\n",
    "\n",
    "**Como regla general, pandas usa etiquetas de índice compartidas para alinear-emparejar valores en diferentes estructuras de datos.** \n",
    "\n",
    "\n",
    "Instanciamos dos <code>Series</code> con el mismo índice de tres elementos:"
   ]
  },
  {
   "cell_type": "code",
   "execution_count": 50,
   "id": "aa4472e5",
   "metadata": {
    "slideshow": {
     "slide_type": "fragment"
    }
   },
   "outputs": [
    {
     "data": {
      "text/plain": [
       "A    5\n",
       "B    7\n",
       "C    9\n",
       "dtype: int64"
      ]
     },
     "execution_count": 50,
     "metadata": {},
     "output_type": "execute_result"
    }
   ],
   "source": [
    "s1 = pd.Series([1, 2, 3], index = [\"A\", \"B\", \"C\"])\n",
    "s2 = pd.Series([4, 5, 6], index = [\"A\", \"B\", \"C\"])\n",
    "s1 + s2"
   ]
  },
  {
   "attachments": {
    "series_no_match.png": {
     "image/png": "[encoded data removed]"
    }
   },
   "cell_type": "markdown",
   "id": "404eb0af",
   "metadata": {
    "slideshow": {
     "slide_type": "slide"
    }
   },
   "source": [
    "\n",
    "Las operaciones de comparación entre <code>Series</code> se vuelven más complicadas cuando los índices difieren. \n",
    "\n",
    "Un índice puede tener un número mayor o menor de etiquetas, o puede haber una discrepancia entre las propias etiquetas.\n",
    "\n",
    "\n",
    "El siguiente ejemplo crea dos <code>Series</code> que comparten solo dos etiquetas de índice, B y C:\n",
    "\n",
    "![series_no_match.png](attachment:series_no_match.png)"
   ]
  },
  {
   "cell_type": "code",
   "execution_count": 54,
   "id": "cf1ebc06",
   "metadata": {
    "slideshow": {
     "slide_type": "slide"
    }
   },
   "outputs": [
    {
     "data": {
      "text/plain": [
       "A     NaN\n",
       "B    14.0\n",
       "C    23.0\n",
       "D     NaN\n",
       "E     NaN\n",
       "dtype: float64"
      ]
     },
     "execution_count": 54,
     "metadata": {},
     "output_type": "execute_result"
    }
   ],
   "source": [
    "s1 = pd.Series(\n",
    "data = [5, 10, 15], index = [\"A\", \"B\", \"C\"]\n",
    ")\n",
    "s2 = pd.Series(\n",
    "data = [4, 8, 12, 14], index = [\"B\", \"C\", \"D\", \"E\"]\n",
    ")\n",
    "\n",
    "s1 + s2"
   ]
  },
  {
   "cell_type": "code",
   "execution_count": 55,
   "id": "3f355bbb",
   "metadata": {
    "slideshow": {
     "slide_type": "fragment"
    }
   },
   "outputs": [
    {
     "data": {
      "text/plain": [
       "0    12.0\n",
       "1    14.0\n",
       "2    16.0\n",
       "3     NaN\n",
       "dtype: float64"
      ]
     },
     "execution_count": 55,
     "metadata": {},
     "output_type": "execute_result"
    }
   ],
   "source": [
    "pd.Series([2,4,6]) + pd.Series([10,10,10,10])"
   ]
  },
  {
   "cell_type": "code",
   "execution_count": null,
   "id": "66f3c503",
   "metadata": {},
   "outputs": [],
   "source": []
  }
 ],
 "metadata": {
  "celltoolbar": "Slideshow",
  "kernelspec": {
   "display_name": "Python 3 (ipykernel)",
   "language": "python",
   "name": "python3"
  },
  "language_info": {
   "codemirror_mode": {
    "name": "ipython",
    "version": 3
   },
   "file_extension": ".py",
   "mimetype": "text/x-python",
   "name": "python",
   "nbconvert_exporter": "python",
   "pygments_lexer": "ipython3",
   "version": "3.7.13"
  }
 },
 "nbformat": 4,
 "nbformat_minor": 5
}
