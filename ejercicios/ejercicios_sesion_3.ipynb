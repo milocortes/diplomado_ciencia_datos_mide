{
 "cells": [
  {
   "cell_type": "markdown",
   "metadata": {},
   "source": [
    "# Sesión 3. Ejercicios. \n",
    "\n",
    "<a href=\"https://colab.research.google.com/github/milocortes/diplomado_ciencia_datos_mide/blob/edicion-2023/ejercicios/ejercicios_sesion_3.ipynb\" target=\"_parent\"><img src=\"https://colab.research.google.com/assets/colab-badge.svg\" alt=\"Open In Colab\"/></a>"
   ]
  },
  {
   "cell_type": "markdown",
   "metadata": {},
   "source": [
    "## 1.- \n",
    "\n",
    "El siguiente diccionario contiene los tres municipios más poblados de cada entidad de acuerdo al Censo de Población y Vivienda de 2020."
   ]
  },
  {
   "cell_type": "code",
   "execution_count": 1,
   "metadata": {},
   "outputs": [],
   "source": [
    "mas_poblados = {\n",
    "                'Aguascalientes': \n",
    "                                 {'Aguascalientes': 948990,\n",
    "                                  'Jesús María': 129929,\n",
    "                                  'San Francisco de los Romo': 61997},\n",
    "    \n",
    "                 'Baja California': \n",
    "                                {'Tijuana': 1922523,\n",
    "                                  'Mexicali': 1049792,\n",
    "                                  'Ensenada': 443807},\n",
    "    \n",
    "                 'Baja California Sur': \n",
    "                                {'Los Cabos': 351111,\n",
    "                              'La Paz': 292241,\n",
    "                              'Comondú': 73021},\n",
    "    \n",
    "                 'Campeche': \n",
    "                                {'Campeche': 294077, \n",
    "                                 'Carmen': 248845, \n",
    "                                 'Champotón': 78170},\n",
    "    \n",
    "                 'Chiapas': \n",
    "                                {'Tuxtla Gutiérrez': 604147,\n",
    "                              'Tapachula': 353706,\n",
    "                              'Ocosingo': 234661},\n",
    "    \n",
    "                 'Chihuahua': \n",
    "                                {'Juárez': 1512450, \n",
    "                                 'Chihuahua': 937674, \n",
    "                                 'Cuauhtémoc': 180638},\n",
    "    \n",
    "                 'Ciudad de México': \n",
    "                                {'Iztapalapa': 1835486,\n",
    "                                  'Gustavo A. Madero': 1173351,\n",
    "                                  'Álvaro Obregón': 759137},\n",
    "    \n",
    "                 'Coahuila de Zaragoza': \n",
    "                                {'Saltillo': 879958,\n",
    "                                  'Torreón': 720848,\n",
    "                                  'Monclova': 237951},\n",
    "    \n",
    "                 'Colima': \n",
    "                                {'Manzanillo': 191031,\n",
    "                                  'Colima': 157048,\n",
    "                                  'Villa de Álvarez': 149762},\n",
    "    \n",
    "                 'Durango': \n",
    "                                {'Durango': 688697, \n",
    "                                 'Gómez Palacio': 372750, \n",
    "                                 'Lerdo': 163313},\n",
    "    \n",
    "                 'Guanajuato': \n",
    "                                {'León': 1721215, \n",
    "                                 'Irapuato': 592953, \n",
    "                                 'Celaya': 521169},\n",
    "    \n",
    "                'Guerrero': \n",
    "                                {'Acapulco de Juárez': 779566,\n",
    "                              'Chilpancingo de los Bravo': 283354,\n",
    "                              'Iguala de la Independencia': 154173},\n",
    "    \n",
    "                 'Hidalgo': \n",
    "                                {'Pachuca de Soto': 314331,\n",
    "                                  'Mineral de la Reforma': 202749,\n",
    "                                  'Tulancingo de Bravo': 168369},\n",
    "    \n",
    "                 'Jalisco': \n",
    "                                {'Zapopan': 1476491,\n",
    "                                  'Guadalajara': 1385629,\n",
    "                                  'Tlajomulco de Zúñiga': 727750},\n",
    "    \n",
    "                 'Michoacán de Ocampo': \n",
    "                                {'Morelia': 849053,\n",
    "                                  'Uruapan': 356786,\n",
    "                                  'Zamora': 204860},\n",
    "    \n",
    "                 'Morelos': \n",
    "                                {'Cuernavaca': 378476, \n",
    "                                 'Jiutepec': 215357, \n",
    "                                 'Cuautla': 187118},\n",
    "    \n",
    "                 'México': \n",
    "                                {'Ecatepec de Morelos': 1645352,\n",
    "                                  'Nezahualcóyotl': 1077208,\n",
    "                                  'Toluca': 910608},\n",
    "    \n",
    "                 'Nayarit': \n",
    "                                {'Tepic': 425924,\n",
    "                                  'Bahía de Banderas': 187632,\n",
    "                                  'Santiago Ixcuintla': 93981},\n",
    "    \n",
    "                 'Nuevo León': {'Monterrey': 1142994, \n",
    "                                'Apodaca': 656464, \n",
    "                                'Guadalupe': 643143},\n",
    "    \n",
    "                 'Oaxaca': \n",
    "                                {'Oaxaca de Juárez': 270955,\n",
    "                                  'San Juan Bautista Tuxtepec': 159452,\n",
    "                                  'Juchitán de Zaragoza': 113570},\n",
    "    \n",
    "                 'Puebla': \n",
    "                                {'Puebla': 1692181,\n",
    "                                  'Tehuacán': 327312,\n",
    "                                  'San Martín Texmelucan': 155738},\n",
    "    \n",
    "                 'Querétaro': \n",
    "                                {'Querétaro': 1049777,\n",
    "                                  'San Juan del Río': 297804,\n",
    "                                  'El Marqués': 231668},\n",
    "    \n",
    "                 'Quintana Roo': \n",
    "                                {'Benito Juárez': 911503,\n",
    "                                  'Solidaridad': 333800,\n",
    "                                  'Othón P. Blanco': 233648},\n",
    "    \n",
    "                 'San Luis Potosí': \n",
    "                                {'San Luis Potosí': 911908,\n",
    "                                  'Soledad de Graciano Sánchez': 332072,\n",
    "                                  'Ciudad Valles': 179371},\n",
    "    \n",
    "                 'Sinaloa': \n",
    "                                {'Culiacán': 1003530, \n",
    "                                 'Mazatlán': 501441, \n",
    "                                 'Ahome': 459310},\n",
    "    \n",
    "                 'Sonora': \n",
    "                                {'Hermosillo': 936263, \n",
    "                                 'Cajeme': 436484, \n",
    "                                 'Nogales': 264782},\n",
    "    \n",
    "                 'Tabasco': \n",
    "                                {'Centro': 683607, \n",
    "                                 'Cárdenas': 243229, \n",
    "                                 'Comalcalco': 214877},\n",
    "    \n",
    "                 'Tamaulipas': \n",
    "                                {'Reynosa': 704767,\n",
    "                                 'Matamoros': 541979,\n",
    "                                 'Nuevo Laredo': 425058},\n",
    "    \n",
    "                 'Tlaxcala': \n",
    "                                {'Tlaxcala': 99896,\n",
    "                                 'Huamantla': 98764,\n",
    "                                 'San Pablo del Monte': 82688},\n",
    "    \n",
    "                 'Veracruz de Ignacio de la Llave': \n",
    "                                {'Veracruz': 607209,\n",
    "                                  'Xalapa': 488531,\n",
    "                                  'Coatzacoalcos': 310698},\n",
    "    \n",
    "                 'Yucatán': \n",
    "                                {'Mérida': 995129, \n",
    "                                 'Kanasín': 141939, \n",
    "                                 'Valladolid': 85460},\n",
    "    \n",
    "                 'Zacatecas': \n",
    "                                {'Fresnillo': 240532, \n",
    "                                 'Guadalupe': 211740, \n",
    "                                 'Zacatecas': 149607}}"
   ]
  },
  {
   "cell_type": "markdown",
   "metadata": {},
   "source": [
    "Utiliza comprensión de diccionarios listas para responder lo siguiente:\n",
    "   \n",
    "* a) ¿Cuántas entidades tienen al menos un municipio con más de 500,000 mil habitantes?\n",
    "* b) ¿Cuántas entidades tienen al menos un municipio con más de un millón de habitantes?\n",
    "* c) ¿Cuales son los 5 municipios más poblados?\n",
    "\n",
    "Tip para está última pregunta: puedes usar el método <code>sort</code> de una lista de tuplas:"
   ]
  },
  {
   "cell_type": "code",
   "execution_count": 2,
   "metadata": {},
   "outputs": [
    {
     "data": {
      "text/plain": [
       "[(300, 'Torre Eiffel'),\n",
       " (235, 'Torre BBVA Bancomer'),\n",
       " (182, 'Torre Latinoamericana'),\n",
       " (93, 'Estatua de la Libertad')]"
      ]
     },
     "execution_count": 2,
     "metadata": {},
     "output_type": "execute_result"
    }
   ],
   "source": [
    "# La siguiente lista de tuplas contiene la altura y el nombre de torres \n",
    "tuples = [(300, 'Torre Eiffel'), (182, 'Torre Latinoamericana'), \n",
    "          (93, 'Estatua de la Libertad'), (235 , 'Torre BBVA Bancomer')]\n",
    "\n",
    "# El método sort (reverse=True) ordena la lista de acuerdo al valor del primer elemento de la tupla \n",
    "tuples.sort(reverse=True)\n",
    "tuples"
   ]
  },
  {
   "cell_type": "markdown",
   "metadata": {},
   "source": [
    "Para responder el inciso c) puedes recorrer el diccionario <code>mas_poblados</code> y construir una lista de tuplas mediante una compresión de lista."
   ]
  },
  {
   "cell_type": "markdown",
   "metadata": {},
   "source": [
    "## 2.- \n",
    "\n",
    "* a) Genera una función que tome como argumento una cadena de texto y regrese el texto en Código morse.\n",
    "\n",
    "Debes obtener un resultado como el siguiente:"
   ]
  },
  {
   "cell_type": "code",
   "execution_count": 5,
   "metadata": {},
   "outputs": [
    {
     "data": {
      "text/plain": [
       "'-.. .. .--. .-.. --- -- .- -.. --- % -- .. -.. . % ..--- ----- ..--- ...--'"
      ]
     },
     "execution_count": 5,
     "metadata": {},
     "output_type": "execute_result"
    }
   ],
   "source": [
    "codifica(\"DIPLOMADO MIDE 2023\")"
   ]
  },
  {
   "cell_type": "markdown",
   "metadata": {},
   "source": [
    "* b) Genera una función que decodifique el Código morse a lenguaje natural.\n",
    "\n",
    "Debes obtener un resultado como el siguiente:"
   ]
  },
  {
   "cell_type": "code",
   "execution_count": 6,
   "metadata": {},
   "outputs": [
    {
     "data": {
      "text/plain": [
       "'DIPLOMADO MIDE 2023'"
      ]
     },
     "execution_count": 6,
     "metadata": {},
     "output_type": "execute_result"
    }
   ],
   "source": [
    "decodifica('-.. .. .--. .-.. --- -- .- -.. --- % -- .. -.. . % ..--- ----- ..--- ...--')"
   ]
  },
  {
   "cell_type": "markdown",
   "metadata": {},
   "source": [
    "**Tip: Utiliza el siguiente diccionario de correspondencia entre letras y código morse:**"
   ]
  },
  {
   "cell_type": "code",
   "execution_count": 3,
   "metadata": {},
   "outputs": [],
   "source": [
    "morse = {\n",
    "     'A': '.-',\n",
    "     'B': '-...',\n",
    "     'C': '-.-.',\n",
    "     'D': '-..',\n",
    "     'E': '.',\n",
    "     'F': '..-.',\n",
    "     'G': '- -.',\n",
    "     'H': '....',\n",
    "     'I': '..',\n",
    "     'J': '.---',\n",
    "     'K': '-.-',\n",
    "     'L': '.-..',\n",
    "     'M': '--',\n",
    "     'N': '-.',\n",
    "     'O': '---',\n",
    "     'P': '.--.',\n",
    "     'Q': '--.-',\n",
    "     'R': '.-.',\n",
    "     'S': '...',\n",
    "     'T': '-',\n",
    "     'U': '..-',\n",
    "     'V': '...-',\n",
    "     'W': '.--',\n",
    "     'X': '-..-',\n",
    "     'Y': '-.--',\n",
    "     'Z': '--..',\n",
    "     ' ': '%',\n",
    "    '1' : '.----',\n",
    "    '2' : '..---',\n",
    "    '3' : '...--',\n",
    "    '4' : '....-',\n",
    "    '5' : '.....',\n",
    "    '6' : '-....',\n",
    "    '7' : '--...',\n",
    "    '8' : '---..',\n",
    "    '0' : '-----', \n",
    "    '9' : '----.'}"
   ]
  },
  {
   "cell_type": "markdown",
   "metadata": {},
   "source": [
    "**Tip: Genera un diccionario que intercambie los valores por llaves y llaves por valores:**"
   ]
  },
  {
   "cell_type": "code",
   "execution_count": 4,
   "metadata": {},
   "outputs": [],
   "source": [
    "morse_deco = {j:i for i,j in morse.items()}"
   ]
  }
 ],
 "metadata": {
  "kernelspec": {
   "display_name": "Python 3",
   "language": "python",
   "name": "python3"
  },
  "language_info": {
   "codemirror_mode": {
    "name": "ipython",
    "version": 3
   },
   "file_extension": ".py",
   "mimetype": "text/x-python",
   "name": "python",
   "nbconvert_exporter": "python",
   "pygments_lexer": "ipython3",
   "version": "3.7.6"
  }
 },
 "nbformat": 4,
 "nbformat_minor": 4
}
