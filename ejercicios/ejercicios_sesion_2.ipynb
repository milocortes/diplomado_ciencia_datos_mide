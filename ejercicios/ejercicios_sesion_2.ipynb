{
 "cells": [
  {
   "cell_type": "markdown",
   "metadata": {},
   "source": [
    "# Sesión 2. Ejercicios. \n",
    "\n",
    "<a href=\"https://colab.research.google.com/github/milocortes/diplomado_ciencia_datos_mide/blob/edicion-2023/ejercicios/ejercicios_sesion_2.ipynb\" target=\"_parent\"><img src=\"https://colab.research.google.com/assets/colab-badge.svg\" alt=\"Open In Colab\"/></a>"
   ]
  },
  {
   "cell_type": "markdown",
   "metadata": {},
   "source": [
    "## 1.- \n",
    "#### a) Obtenga el promedio y desviación estándar de las listas de calificaciones de los siguientes tres grupos:"
   ]
  },
  {
   "cell_type": "code",
   "execution_count": 20,
   "metadata": {},
   "outputs": [],
   "source": [
    "grupo_uno = [8.113368881882932,8.756189483052498,8.991284505104238,8.547980722124219,7.233805127302257,\n",
    " 7.230533082438005,8.384560046444571,7.050410088456793,7.713432726656295,7.333056861987375,8.146771001985954,\n",
    " 8.53265665433837,8.276749008835894,8.279601427346599,7.650392363728029,8.66889766571599,8.956745920639849,\n",
    " 8.86638944002435,8.39946044917307,7.879461804002015]\n",
    "\n",
    "grupo_dos = [8.19079033446875,7.307197239516487,7.2152177186670166,7.502786761329725,7.301172376975222,\n",
    " 8.446017938659342,7.8355678561003375, 7.317928101400828, 8.982345398197372, 7.120321158536997,\n",
    " 7.719478238794437,8.11779510222845,8.487280668749717,8.536319891651038,8.441124829346878,\n",
    " 7.938677871066284,7.735533262402255,8.023750099379438,7.792787154073463, 7.531572069849502]\n",
    "\n",
    "grupo_tres = [8.058543886805174,7.690905447762158,7.6081681060032595,8.343874931386697,9.326445435488328,\n",
    " 7.092885838774745,9.587009497275085,7.788670334501337,8.605883178428549,7.390870253221338,8.836925604311473,\n",
    " 8.121643610149656,7.637288636307333,9.353567102212251,8.200640599878744,9.209790458408387,8.107465025028224,\n",
    "              8.557669293402716,8.833123747244748,9.026265112278981]"
   ]
  },
  {
   "cell_type": "markdown",
   "metadata": {},
   "source": [
    "#### b) Obtenga el promedio y desviación estándar de todas las calificaciones \n",
    "tip: utiliza concatenación de listas para unir todas las calificaciones en una sola lista."
   ]
  },
  {
   "cell_type": "markdown",
   "metadata": {},
   "source": [
    "## 2.- \n",
    "Imagina que eres el encargado de un programa social que consiste en tranferencias monetarias condicionadas. Los requisitos que debe cumplir el hogar para ser beneficiaria del programa son:\n",
    "\n",
    "* Tener al menos un hijx menor de edad\n",
    "* Tener un ingreso mensual menor a 10,000 pesos\n",
    "* Que la jefa o jefe de familia se encuentre ocupado en un empleo informal.\n",
    "\n",
    "La siguiente lista presenta los hogares que se inscribieron al programa:"
   ]
  },
  {
   "cell_type": "code",
   "execution_count": 42,
   "metadata": {},
   "outputs": [],
   "source": [
    "inscritos = ['hogar_21','hogar_34','hogar_33','hogar_26','hogar_7','hogar_27','hogar_34','hogar_21',\n",
    " 'hogar_30','hogar_12','hogar_24','hogar_16','hogar_20','hogar_14','hogar_9','hogar_6',\n",
    " 'hogar_2','hogar_23','hogar_21','hogar_15','hogar_20','hogar_6','hogar_9','hogar_23',\n",
    " 'hogar_36','hogar_12','hogar_19','hogar_16','hogar_0','hogar_7']"
   ]
  },
  {
   "cell_type": "markdown",
   "metadata": {},
   "source": [
    "La siguiente lista contiene los hogares que cumplen con tener un hijx menor de edad."
   ]
  },
  {
   "cell_type": "code",
   "execution_count": 43,
   "metadata": {},
   "outputs": [],
   "source": [
    "un_hijo = ['hogar_6', 'hogar_16', 'hogar_12', 'hogar_19', 'hogar_16',\n",
    "       'hogar_36', 'hogar_7', 'hogar_16', 'hogar_23', 'hogar_14',\n",
    "       'hogar_20', 'hogar_12', 'hogar_6', 'hogar_9', 'hogar_30']"
   ]
  },
  {
   "cell_type": "markdown",
   "metadata": {},
   "source": [
    "La siguiente lista contiene los hogares que tienen un ingreso mensual a 10,000 pesos."
   ]
  },
  {
   "cell_type": "code",
   "execution_count": 44,
   "metadata": {},
   "outputs": [],
   "source": [
    "ingreso_menor_10000 = ['hogar_12', 'hogar_6', 'hogar_9', 'hogar_27', 'hogar_7', 'hogar_2',\n",
    "       'hogar_23', 'hogar_0', 'hogar_16', 'hogar_2', 'hogar_21',\n",
    "       'hogar_12', 'hogar_27', 'hogar_9', 'hogar_23']"
   ]
  },
  {
   "cell_type": "markdown",
   "metadata": {},
   "source": [
    "Por su parte, la siguiente lista contiene los hogares en los que la jefa o jefe de familia se encuentre ocupado en un empleo informal."
   ]
  },
  {
   "cell_type": "code",
   "execution_count": 45,
   "metadata": {},
   "outputs": [],
   "source": [
    "empleo_informal = ['hogar_21', 'hogar_36', 'hogar_6', 'hogar_9', 'hogar_6',\n",
    "       'hogar_23', 'hogar_33', 'hogar_0', 'hogar_7', 'hogar_23',\n",
    "       'hogar_36', 'hogar_20', 'hogar_33', 'hogar_36', 'hogar_16']"
   ]
  },
  {
   "cell_type": "markdown",
   "metadata": {},
   "source": [
    "#### a) Obtenga una lista de los hogares beneficiarios del programa \n",
    "tip: puedes utilizar las operaciones de conjuntos vistas en la sección de colecciones. Recuerda que puedes convertir una lista en conjunto utilizando la función <code>set()</code>: <code>un_conjunto = set(una_lista)</code>"
   ]
  },
  {
   "cell_type": "markdown",
   "metadata": {},
   "source": [
    "#### b) Obtenga una lista con los hogares excluidos del programa"
   ]
  },
  {
   "cell_type": "markdown",
   "metadata": {},
   "source": [
    "#### c) ¿Cuántos hogares más resultan beneficiados si las reglas de operación del programa cambian y es suficiente con cumplir con los dos primeros requisitos?"
   ]
  },
  {
   "cell_type": "markdown",
   "metadata": {},
   "source": [
    "## 3.-\n",
    "\n",
    "Con las siguientes dos matrices, $A$ y $B$:\n",
    "\n",
    "\\begin{equation}\n",
    "A = \\begin{bmatrix}\n",
    "    3 & 0 & -2 & 11 \\\\\n",
    "    0 & 9 &  0 & 0 \\\\\n",
    "    0 & 7 &  0 & 0 \\\\\n",
    "    0 & 0 &  0 & -5     \n",
    "\\end{bmatrix}\n",
    "\\end{equation}\n",
    "\n",
    "\\begin{equation}\n",
    "B = \\begin{bmatrix}\n",
    "    23 & 0 & 0 & 22 \\\\\n",
    "    15 & 0 &  14 & 0 \\\\\n",
    "    0 & 23 &  11 & 45 \\\\\n",
    "    1 & 0 &  1 & 0     \n",
    "\\end{bmatrix}\n",
    "\\end{equation}\n"
   ]
  },
  {
   "cell_type": "markdown",
   "metadata": {},
   "source": [
    "#### a) Represente ambas matrices en forma de una lista de listas\n",
    "tip: la representación de la matriz en forma de lista de listas sería la siguiente <code>A = [[3, 0, -2, 11], [0, 9, 0, 0],[0, 7, 0, 0],[0, 0, 0, -5]]</code>"
   ]
  },
  {
   "cell_type": "markdown",
   "metadata": {},
   "source": [
    "#### b) Una vez que las matrices están en representación de listas de listas, suma ambas matrices y guarda el resultado en una matriz $C$. \n",
    "tip: utiliza un dos ciclos para realizar la suma matricial. Inicializa la matriz $C$ con ceros para que puedas almacenar el resultado de la suma : <code></code>"
   ]
  },
  {
   "cell_type": "code",
   "execution_count": 59,
   "metadata": {},
   "outputs": [],
   "source": [
    "C = [[0]*4,[0]*4,[0]*4,[0]*4]"
   ]
  },
  {
   "cell_type": "markdown",
   "metadata": {},
   "source": [
    "#### c) Representa las tres matrices $A$, $B$ y $C$ en su forma de matriz dispersa"
   ]
  },
  {
   "cell_type": "markdown",
   "metadata": {},
   "source": [
    "## 4.- \n",
    "\n",
    "Construye una función que tome como argumento una palabra u oración y regrese <code>True</code> si dicha palabra es un palíndromo ( es una palabra o frase que se lee igual en un sentido que en otro, por ejemplo, *Anita lava la tina*)  y <code>False</code> en caso contrario.\n",
    "\n",
    "tip: Puedes utilizar la función <code>list</code> para convertir la palabra en una lista:\n"
   ]
  },
  {
   "cell_type": "code",
   "execution_count": 70,
   "metadata": {},
   "outputs": [
    {
     "data": {
      "text/plain": [
       "['A',\n",
       " 'n',\n",
       " 'i',\n",
       " 't',\n",
       " 'a',\n",
       " ' ',\n",
       " 'l',\n",
       " 'a',\n",
       " 'v',\n",
       " 'a',\n",
       " ' ',\n",
       " 'l',\n",
       " 'a',\n",
       " ' ',\n",
       " 't',\n",
       " 'i',\n",
       " 'n',\n",
       " 'a']"
      ]
     },
     "execution_count": 70,
     "metadata": {},
     "output_type": "execute_result"
    }
   ],
   "source": [
    "palabra = list(\"Anita lava la tina\")\n",
    "palabra"
   ]
  },
  {
   "cell_type": "markdown",
   "metadata": {},
   "source": [
    "Una vez en esta forma, pudes construir otra lista con los elementos invertidos utilizando la función <code>reverse</code>"
   ]
  },
  {
   "cell_type": "code",
   "execution_count": 71,
   "metadata": {},
   "outputs": [
    {
     "data": {
      "text/plain": [
       "['a',\n",
       " 'n',\n",
       " 'i',\n",
       " 't',\n",
       " ' ',\n",
       " 'a',\n",
       " 'l',\n",
       " ' ',\n",
       " 'a',\n",
       " 'v',\n",
       " 'a',\n",
       " 'l',\n",
       " ' ',\n",
       " 'a',\n",
       " 't',\n",
       " 'i',\n",
       " 'n',\n",
       " 'A']"
      ]
     },
     "execution_count": 71,
     "metadata": {},
     "output_type": "execute_result"
    }
   ],
   "source": [
    "palabra_al_reves = list(\"Anita lava la tina\")\n",
    "palabra_al_reves.reverse()\n",
    "palabra_al_reves"
   ]
  },
  {
   "cell_type": "markdown",
   "metadata": {},
   "source": [
    "La función tendría que recorrer y comparar entrada por entrada ambas listas y verificar que coinciden en todos los casos para poder regresar que la palabra u oración es un palíndromo.\n",
    "\n",
    "**Importante**: para que este método funcione, necesitas convertir a minúsculas (o mayúsculas) la palabra u oración y remover espacios. En la primer sesión vimos métodos de string como <code>lower</code> y <code>replace</code>: el primero convertía a minúsculas el string y el segundo remplaza caracteres:"
   ]
  },
  {
   "cell_type": "code",
   "execution_count": 73,
   "metadata": {},
   "outputs": [
    {
     "data": {
      "text/plain": [
       "'anitalavalatina'"
      ]
     },
     "execution_count": 73,
     "metadata": {},
     "output_type": "execute_result"
    }
   ],
   "source": [
    "\"Anita lava la tina\".lower().replace(\" \",\"\")"
   ]
  },
  {
   "cell_type": "markdown",
   "metadata": {},
   "source": [
    "Una función que contiene un <code>for</code> loop puede regresar <code>False</code> si se cumple alguna condición en alguna iteración. La siguiente función regresa <code>True</code> si en la lista que recibe como argumento encuentra un 5 y regresa <code>False</code> en caso contrario."
   ]
  },
  {
   "cell_type": "code",
   "execution_count": 99,
   "metadata": {},
   "outputs": [
    {
     "data": {
      "text/plain": [
       "True"
      ]
     },
     "execution_count": 99,
     "metadata": {},
     "output_type": "execute_result"
    }
   ],
   "source": [
    "\n",
    "def verifica_cinco(una_lista):\n",
    "    for i in una_lista:\n",
    "        if i==5:\n",
    "            return True\n",
    "    return False\n",
    "\n",
    "lista_prueba = [2,3,4,5,6,8]\n",
    "\n",
    "verifica_cinco(lista_prueba)"
   ]
  },
  {
   "cell_type": "code",
   "execution_count": 100,
   "metadata": {},
   "outputs": [
    {
     "data": {
      "text/plain": [
       "False"
      ]
     },
     "execution_count": 100,
     "metadata": {},
     "output_type": "execute_result"
    }
   ],
   "source": [
    "lista_prueba = [2,3,4,8]\n",
    "verifica_cinco(lista_prueba)"
   ]
  },
  {
   "cell_type": "markdown",
   "metadata": {},
   "source": [
    "#### a) Prueba tu función con la siguiente frase que es un palíndromo : *Yo hago yoga hoy*"
   ]
  }
 ],
 "metadata": {
  "kernelspec": {
   "display_name": "Python 3",
   "language": "python",
   "name": "python3"
  },
  "language_info": {
   "codemirror_mode": {
    "name": "ipython",
    "version": 3
   },
   "file_extension": ".py",
   "mimetype": "text/x-python",
   "name": "python",
   "nbconvert_exporter": "python",
   "pygments_lexer": "ipython3",
   "version": "3.7.6"
  }
 },
 "nbformat": 4,
 "nbformat_minor": 5
}
