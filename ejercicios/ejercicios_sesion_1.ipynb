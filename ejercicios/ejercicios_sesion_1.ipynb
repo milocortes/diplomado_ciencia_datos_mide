{
 "cells": [
  {
   "cell_type": "markdown",
   "metadata": {},
   "source": [
    "# Sesión 1: Ejercicios\n",
    "\n",
    "<a href=\"https://colab.research.google.com/github/milocortes/diplomado_ciencia_datos_mide/blob/edicion-2023/ejercicios/ejercicios_sesion_1.ipynb\" target=\"_parent\"><img src=\"https://colab.research.google.com/assets/colab-badge.svg\" alt=\"Open In Colab\"/></a>"
   ]
  },
  {
   "cell_type": "markdown",
   "metadata": {},
   "source": [
    "## Ejercicio 1\n",
    "\n",
    "Para las siguientes listas:"
   ]
  },
  {
   "cell_type": "code",
   "execution_count": null,
   "metadata": {},
   "outputs": [],
   "source": [
    "lista1 = [8, -1, -2, 2, 0]\n",
    "lista2 = [-6, -7, -8, -12,-4]\n",
    "lista3 = [98, 0, -56, 64, 64]"
   ]
  },
  {
   "cell_type": "markdown",
   "metadata": {},
   "source": [
    "Obtén el segundo elemento más grande de cada lista. "
   ]
  },
  {
   "cell_type": "code",
   "execution_count": null,
   "metadata": {},
   "outputs": [],
   "source": []
  },
  {
   "cell_type": "markdown",
   "metadata": {},
   "source": [
    "## Ejercicio 2\n",
    "\n",
    "Usando segmentación de listas, ordena la siguiente lista de menor a mayor:"
   ]
  },
  {
   "cell_type": "code",
   "execution_count": null,
   "metadata": {},
   "outputs": [],
   "source": [
    "lista_1 = [5,6,7,8,9,1,2,3,4]"
   ]
  },
  {
   "cell_type": "code",
   "execution_count": null,
   "metadata": {},
   "outputs": [],
   "source": []
  },
  {
   "cell_type": "markdown",
   "metadata": {},
   "source": [
    "## Ejercicio 3\n",
    "\n",
    "Ejecuta el siguiente bloque de instrucciones:"
   ]
  },
  {
   "cell_type": "code",
   "execution_count": null,
   "metadata": {},
   "outputs": [],
   "source": [
    "x = [[1,2,3], [4,5,6], [7,8,9]]\n",
    "y = x[:]\n",
    "y[0][2] = 1000\n",
    "x"
   ]
  },
  {
   "cell_type": "markdown",
   "metadata": {},
   "source": [
    "¿Qué cambio observas en la primera lista de la lista <code>x</code>? Dado que estamos utilizando <code>x[:]</code> para eliminar la referencia a <code>x</code> y generar una copia de <code>x</code> en la variable <code>y</code>, ¿Esperabas este resultado?\n",
    "\n",
    "Investiga **muy brevemente** qué significa:\n",
    "\n",
    "* *shallow* copy\n",
    "* *deep* copy\n",
    "\n",
    "Ejecuta el siguiente bloque de código ¿Se modificó la variable <code>x</code>?"
   ]
  },
  {
   "cell_type": "code",
   "execution_count": null,
   "metadata": {},
   "outputs": [],
   "source": [
    "import copy \n",
    "\n",
    "x = [[1,2,3], [4,5,6], [7,8,9]]\n",
    "y = copy.deepcopy(x)\n",
    "y[0][2] = 1000\n",
    "x"
   ]
  },
  {
   "cell_type": "markdown",
   "metadata": {},
   "source": [
    "## Ejercicio 4\n",
    "\n",
    "Para la siguiente lista"
   ]
  },
  {
   "cell_type": "code",
   "execution_count": null,
   "metadata": {},
   "outputs": [],
   "source": [
    "observaciones = [81, 79, 81, 83, 83, 76, 82, 78, 80, 76, 82, 80, 78, 80, 79, 77, 81, 80, 82, 81, 77, 81, 81, 78, 75, 75, 77, 82, 77, 79, 78, 79, 79, 74, 79, 78, 81, 76, 77, 80, 79, 78, 84, 79, 78, 79, 81, 79, 81, 77, 78, 79, 80, 80, 78, 80, 77, 76, 82, 80]"
   ]
  },
  {
   "cell_type": "markdown",
   "metadata": {},
   "source": [
    "Genera el siguiente histograma de frecuencias usando los métodos <code>format</code> y <code>print</code>, el operador de multiplicación para cadenas y el método <code>count</code> que obtiene la frecuencia de aparición de un valor dado en la lista.\n",
    "\n",
    "Debes llegar al siguiente resultado:\n",
    "\n",
    "```\n",
    "74  ## *\n",
    "75  ## **\n",
    "76  ## ****\n",
    "77  ## *******\n",
    "78  ## *********\n",
    "79  ## ***********\n",
    "80  ## *********\n",
    "81  ## *********\n",
    "82  ## *****\n",
    "83  ## **\n",
    "84  ## *\n",
    "```\n",
    "**Nota**: Si ya tienes familiaridad con conjuntos (<code>set</code>) y ciclos <code>for</code> en Python, siéntete libre de utilizarlos para este ejercicio."
   ]
  },
  {
   "cell_type": "code",
   "execution_count": null,
   "metadata": {},
   "outputs": [],
   "source": []
  },
  {
   "cell_type": "markdown",
   "metadata": {},
   "source": []
  }
 ],
 "metadata": {
  "kernelspec": {
   "display_name": "Python 3",
   "language": "python",
   "name": "python3"
  },
  "language_info": {
   "codemirror_mode": {
    "name": "ipython",
    "version": 3
   },
   "file_extension": ".py",
   "mimetype": "text/x-python",
   "name": "python",
   "nbconvert_exporter": "python",
   "pygments_lexer": "ipython3",
   "version": "3.7.6"
  }
 },
 "nbformat": 4,
 "nbformat_minor": 4
}
